{
  "nbformat": 4,
  "nbformat_minor": 0,
  "metadata": {
    "colab": {
      "name": "Programacao-Ciencia-Dados.ipynb",
      "provenance": [],
      "collapsed_sections": [
        "OQxP9ol8X6bz",
        "HknnQelaBHqx",
        "o6NGg0s3Kesj"
      ],
      "include_colab_link": true
    },
    "kernelspec": {
      "name": "python3",
      "display_name": "Python 3"
    }
  },
  "cells": [
    {
      "cell_type": "markdown",
      "metadata": {
        "id": "view-in-github",
        "colab_type": "text"
      },
      "source": [
        "<a href=\"https://colab.research.google.com/github/pauloigorms/covid-twitter-pecd/blob/main/Programacao_Ciencia_Dados.ipynb\" target=\"_parent\"><img src=\"https://colab.research.google.com/assets/colab-badge.svg\" alt=\"Open In Colab\"/></a>"
      ]
    },
    {
      "cell_type": "markdown",
      "metadata": {
        "id": "FW6he9b_DrDZ"
      },
      "source": [
        "# **PROGRAMAÇÃO PARA CIÊNCIA DE DADOS**\n",
        "\n",
        "**Equipe**: Cássio de Paula / Paulo Moraes [(website)](https://paulomoraes.me).\n",
        "\n",
        "**Objetivo**: analisar as mensagens\n",
        "trocadas por usuários do Twitter sobre a COVID-19, com o intuito de realizar uma análise\n",
        "exploratória e visualização de dados, passando também pelas etapas de limpeza e organização.\n",
        "Mais especificamente, as equipes devem explorar a análise nas perguntas (questões) dos usuários,\n",
        "pois arguimos que seja um tipo de mensagem apropriado para se compreender as principais dúvidas\n",
        "das pessoas sobre a atual pandemia.\n"
      ]
    },
    {
      "cell_type": "markdown",
      "metadata": {
        "id": "je-S-DmZmjzu"
      },
      "source": [
        "# **INFORMAÇÕES GERAIS**\n",
        "\n",
        "### **ARTEFATOS**\n",
        "\n",
        "\n",
        "*   Relatório Técnico - *Um notebook com o texto e o código-fonte apresentado na ferramenta Google COLAB*; \n",
        "*   Repositório no GitHub.\n",
        "\n",
        "\n",
        "### **ATIVIDADES**\n",
        "\n",
        "\n",
        "*   Importar base de dados;\n",
        "*   Tratar base de dados;\n",
        "*   Identificar as perguntas (questões) descritas nas mensagens;\n",
        "*   Salvar coleção com a identificação das perguntas em um novo dataset chamado \"DuvidasDB\".\n",
        "\n",
        "\n",
        "### **DO RESULTADO**\n",
        "\n",
        "\n",
        "1.   Devem apresentar um resumo (sumário) com as estatísticas dos dados originais, elas podem ser apresentadas através de tabelas e/ou gráficos;\n",
        "2.   Com a coleção resultando da identificação das perguntas a equipe deve apresentar as estatísticas sobre estes dados.\n",
        "\n",
        "\n",
        "### **TEMAS DISCUTIDOS**\n",
        "\n",
        "As equipes devem fazer uma análise sobre os temas que são debatidos nas perguntas dos postadas pelos usuários. Faça uma análise se as perguntas são relativas aos seguintes temas:\n",
        "\n",
        "*   Doença. Quando a pergunta é relativa à doença Deve-se observar que a doença é identificada por vários nomes. Exemplo: coronavírus, corona, COVID-19, etc;\n",
        "*   Medicamento. Quando a pergunta é sobre o uso de determinado medicamento no tratamento da doença;\n",
        "*   Organizações. Quando a pergunta é relativa a uma determinada entidade ou organização. Emissora de TV, Ministério da Saúde ou empresas são exemplos de organizações;\n",
        "*   Pessoas. Quando a pergunta é sobre determinada pessoa. Por exemplo, a pergunta pode ser sobre a atuação que determinado político ou pessoa famosa teve durante esse período de pandemia."
      ]
    },
    {
      "cell_type": "markdown",
      "metadata": {
        "id": "g29dcuadqXJx"
      },
      "source": [
        "# **VISÃO DOS DADOS**\n",
        "\n",
        "> **Visão Temporal** - Deve-se fazer uma análise temporal das perguntas que formam o dataset *DuvidasDB*. Pode-se considerar o intervalo temporal de dias, semanas ou meses. A escolha do intervalo de tempo ficará a cargo das equipes. Exemplos de análise temporal: a) houve um aumento no número de perguntas\n",
        "ao longo do tempo? b) houve uma mudança no perfil das perguntas ao longo do tempo?\n",
        "\n",
        "> **Visão Geográfica** - Deve-se fazer uma análise geográfica (espacial) das perguntas que formam o dataset *DuvidasDB*. Existem algumas colunas no dataset que trazem a informação das localizações como, por exemplo, o país, estado e cidade. Em alguns tuítes é possível ainda identificar as coordenadas geográficas\n",
        "de latitude e longitude. Exemplo de análise geográfica: a) os usuários de regiões diferentes fazem\n",
        "perguntas com diferentes focos? Por exemplo, será que os usuários de uma região perguntam mais\n",
        "sobre a doença ou sobre o tratamento? Essa análise ainda pode ser realizada em diversos níveis de\n",
        "área (cidade, estado ou região). Além de apresentar a distribuição das dúvidas dos usuários por\n",
        "região, a equipe deverá fazer uma análise dessa distribuição. Por exemplo, apresentar as razões\n",
        "(ou hipóteses) da ocorrência dessa distribuição.\n"
      ]
    },
    {
      "cell_type": "markdown",
      "metadata": {
        "id": "NFGZlZOM9Olf"
      },
      "source": [
        "# **INICIANDO O PROJETO**"
      ]
    },
    {
      "cell_type": "markdown",
      "metadata": {
        "id": "CmzwguY49akk"
      },
      "source": [
        "IMPORTANDO LIBS"
      ]
    },
    {
      "cell_type": "code",
      "metadata": {
        "id": "OtF4CpSYD5_Q",
        "outputId": "972b3b89-90ec-4944-f54c-fee5eb59da6f",
        "colab": {
          "base_uri": "https://localhost:8080/"
        }
      },
      "source": [
        "import pandas as pd\n",
        "import numpy as np\n",
        "import matplotlib.pyplot as plt\n",
        "from google.colab import drive\n",
        "\n",
        "import nltk as nltk\n",
        "nltk.download('punkt')\n",
        "nltk.download('stopwords')\n",
        "nltk.download('rslp')\n",
        "from nltk.tokenize import sent_tokenize, word_tokenize\n",
        "from nltk.corpus import stopwords\n",
        "\n",
        "from nltk.stem import rslp\n",
        "\n",
        "from sklearn.feature_extraction.text import TfidfVectorizer, CountVectorizer\n",
        "from sklearn.cluster import KMeans\n",
        "\n",
        "from wordcloud import WordCloud, ImageColorGenerator\n",
        "\n",
        "import re as rexpression\n",
        "from string import punctuation\n",
        "import unicodedata"
      ],
      "execution_count": 29,
      "outputs": [
        {
          "output_type": "stream",
          "text": [
            "[nltk_data] Downloading package punkt to /root/nltk_data...\n",
            "[nltk_data]   Package punkt is already up-to-date!\n",
            "[nltk_data] Downloading package stopwords to /root/nltk_data...\n",
            "[nltk_data]   Package stopwords is already up-to-date!\n",
            "[nltk_data] Downloading package rslp to /root/nltk_data...\n",
            "[nltk_data]   Package rslp is already up-to-date!\n"
          ],
          "name": "stdout"
        }
      ]
    },
    {
      "cell_type": "markdown",
      "metadata": {
        "id": "aYFxuSq1qU5f"
      },
      "source": [
        "LEITURA DO ARQUIVO DE DADOS BASE"
      ]
    },
    {
      "cell_type": "code",
      "metadata": {
        "id": "aH5GF4F_9rqC",
        "outputId": "34738b13-20ee-4ef1-f4c2-8a0f978947da",
        "colab": {
          "base_uri": "https://localhost:8080/"
        }
      },
      "source": [
        "drive.mount('/content/drive')\n",
        "load_data = pd.read_csv('drive/My Drive/twitter/dados-curso-completo.csv', sep= ',',skiprows=0, encoding='utf-8')\n",
        "duvidas_file = pd.read_csv('drive/My Drive/twitter/duvidasdb.csv', sep= ',',skiprows=0, encoding='utf-8')\n",
        "raw_data = load_data.drop_duplicates(['texto'])"
      ],
      "execution_count": 2,
      "outputs": [
        {
          "output_type": "stream",
          "text": [
            "Mounted at /content/drive\n"
          ],
          "name": "stdout"
        }
      ]
    },
    {
      "cell_type": "markdown",
      "metadata": {
        "id": "OQxP9ol8X6bz"
      },
      "source": [
        "#Funções"
      ]
    },
    {
      "cell_type": "markdown",
      "metadata": {
        "id": "ZZf-StuOYC0W"
      },
      "source": [
        "Função: **Cálcular Percente**"
      ]
    },
    {
      "cell_type": "code",
      "metadata": {
        "id": "kiYA2slHX82X"
      },
      "source": [
        "def percentual(value, total): \n",
        "    if not value and not total: \n",
        "       return print(\"value = 0% \\n total = 0%\") \n",
        "    elif value < 0 or total < 0: \n",
        "       return print(\"não aceita valor negativo!\") \n",
        "    else: \n",
        "       return '{0:.2f}%'.format((value / total * 100))"
      ],
      "execution_count": null,
      "outputs": []
    },
    {
      "cell_type": "markdown",
      "metadata": {
        "id": "syaAFBuKUAkK"
      },
      "source": [
        "Função: **Formatar para configuração decimal**"
      ]
    },
    {
      "cell_type": "code",
      "metadata": {
        "id": "U9SPA5G8HKnV"
      },
      "source": [
        "def decimaled(value):\n",
        "  value = float('{:.3g}'.format(value))\n",
        "  size = 0\n",
        "  while abs(value) >= 1000:\n",
        "    size += 1\n",
        "    value /= 1000.0\n",
        "  return '{}{}'.format('{:f}'.format(value).rstrip('0').rstrip('.'), ['', 'K', 'M', 'B', 'T'][size])"
      ],
      "execution_count": null,
      "outputs": []
    },
    {
      "cell_type": "markdown",
      "metadata": {
        "id": "j8yjHnXTUEBk"
      },
      "source": [
        "Função: **Remover pontuação**"
      ]
    },
    {
      "cell_type": "code",
      "metadata": {
        "id": "2vKkGsP9TPL8"
      },
      "source": [
        "def filtering(text):\n",
        "  regex = rexpression.compile('[%s]' % rexpression.escape(punctuation))\n",
        "  noponctuation = []\n",
        "  words = text.split()\n",
        "  for word in words:\n",
        "    ntoken = regex.sub(u'', word)\n",
        "    if not ntoken == u'':\n",
        "      noponctuation.append(ntoken)\n",
        "  return noponctuation"
      ],
      "execution_count": 3,
      "outputs": []
    },
    {
      "cell_type": "markdown",
      "metadata": {
        "id": "ej6hW2dgUkw8"
      },
      "source": [
        "Função: **Remover acentuação**"
      ]
    },
    {
      "cell_type": "code",
      "metadata": {
        "id": "yvIBaCUbVjVt"
      },
      "source": [
        "def rm_accents(words):\n",
        "  formated = []\n",
        "  for item in words:    \n",
        "    chars = [c for c in unicodedata.normalize('NFKD', item)]\n",
        "    formated.append(u''.join([r for r in chars if not unicodedata.combining(r)]))\n",
        "  return formated"
      ],
      "execution_count": 4,
      "outputs": []
    },
    {
      "cell_type": "markdown",
      "metadata": {
        "id": "thPHp3IkUnmW"
      },
      "source": [
        "Função: **Remover StopWords**"
      ]
    },
    {
      "cell_type": "code",
      "metadata": {
        "id": "gQgJIcjCVeg-"
      },
      "source": [
        "def rm_stopwords(text):\n",
        "  swords = stopwords.words('portuguese')\n",
        "  return [r for r in text if r.lower().strip() not in swords]  "
      ],
      "execution_count": 5,
      "outputs": []
    },
    {
      "cell_type": "markdown",
      "metadata": {
        "id": "xLfBzNMuUtL2"
      },
      "source": [
        "Função: **Remover Tokens**"
      ]
    },
    {
      "cell_type": "code",
      "metadata": {
        "id": "nCkOrFzaVbmA"
      },
      "source": [
        "def tokenize(text):\n",
        "  tclean = []\n",
        "  for word in text:\n",
        "    nfkd = unicodedata.normalize('NFKD', word)\n",
        "    noaccent = u''.join([r for r in nfkd if not unicodedata.combining(r)])\n",
        "    join = rexpression.sub('[^a-zA-Z \\\\\\]',' ', noaccent)\n",
        "    tclean.append(join.lower().strip())\n",
        "  return ' '.join([r for r in tclean if len(r) > 1 and not r.isdigit()])"
      ],
      "execution_count": 6,
      "outputs": []
    },
    {
      "cell_type": "markdown",
      "metadata": {
        "id": "v4xmTMKqVGaA"
      },
      "source": [
        "Função: **Reduzir as palavras ao seu radical**"
      ]
    },
    {
      "cell_type": "code",
      "metadata": {
        "id": "VfHolt2gVT7_"
      },
      "source": [
        "def stemming(text):\n",
        "  words = text.split()\n",
        "  stm = []\n",
        "  for word in words:\n",
        "    stm.append(rslp.RSLPStemmer().stem(word))\n",
        "  return (' '.join(stm))"
      ],
      "execution_count": 24,
      "outputs": []
    },
    {
      "cell_type": "markdown",
      "metadata": {
        "id": "qHqU11kAVJDQ"
      },
      "source": [
        "Função: **Remover Palavras**"
      ]
    },
    {
      "cell_type": "code",
      "metadata": {
        "id": "lEUDzm0hVNjm"
      },
      "source": [
        "def no_grams(words):\n",
        "  arr = words.split(' ')\n",
        "  trigrams = []\n",
        "  for r in range(0, len(words)):\n",
        "      if(r == len(words)-2):\n",
        "          break\n",
        "      else:\n",
        "          trigram = words[r]+'_'+words[r+1]+'_'+words[r+2]\n",
        "          trigrams.append(trigram)\n",
        "  return trigrams"
      ],
      "execution_count": 8,
      "outputs": []
    },
    {
      "cell_type": "markdown",
      "metadata": {
        "id": "HknnQelaBHqx"
      },
      "source": [
        "#Estatísticas bases\n"
      ]
    },
    {
      "cell_type": "markdown",
      "metadata": {
        "id": "wTIaTc5vPjKM"
      },
      "source": [
        "**Exemplo da base de dados**\n",
        "\n",
        "---\n",
        "\n"
      ]
    },
    {
      "cell_type": "code",
      "metadata": {
        "id": "cXOV8qT8NoPA",
        "outputId": "196ca383-b1de-4f81-c033-ac3c4d5b20d5",
        "colab": {
          "base_uri": "https://localhost:8080/",
          "height": 509
        }
      },
      "source": [
        "raw_data.head(5)"
      ],
      "execution_count": null,
      "outputs": [
        {
          "output_type": "execute_result",
          "data": {
            "text/html": [
              "<div>\n",
              "<style scoped>\n",
              "    .dataframe tbody tr th:only-of-type {\n",
              "        vertical-align: middle;\n",
              "    }\n",
              "\n",
              "    .dataframe tbody tr th {\n",
              "        vertical-align: top;\n",
              "    }\n",
              "\n",
              "    .dataframe thead th {\n",
              "        text-align: right;\n",
              "    }\n",
              "</style>\n",
              "<table border=\"1\" class=\"dataframe\">\n",
              "  <thead>\n",
              "    <tr style=\"text-align: right;\">\n",
              "      <th></th>\n",
              "      <th>data</th>\n",
              "      <th>usuario</th>\n",
              "      <th>apelido</th>\n",
              "      <th>texto</th>\n",
              "      <th>retweet</th>\n",
              "      <th>seguidores</th>\n",
              "      <th>idioma</th>\n",
              "      <th>lugar</th>\n",
              "      <th>pais</th>\n",
              "      <th>sigla</th>\n",
              "      <th>latitude</th>\n",
              "      <th>longitude</th>\n",
              "      <th>hashtags</th>\n",
              "    </tr>\n",
              "  </thead>\n",
              "  <tbody>\n",
              "    <tr>\n",
              "      <th>0</th>\n",
              "      <td>2020-03-23 18:51:14</td>\n",
              "      <td>Gaboardi</td>\n",
              "      <td>fraslee</td>\n",
              "      <td>@BolsonaroSP Cade o fundão deputado??? Congres...</td>\n",
              "      <td>0</td>\n",
              "      <td>138</td>\n",
              "      <td>pt</td>\n",
              "      <td>NaN</td>\n",
              "      <td>NaN</td>\n",
              "      <td>NaN</td>\n",
              "      <td>NaN</td>\n",
              "      <td>NaN</td>\n",
              "      <td>[]</td>\n",
              "    </tr>\n",
              "    <tr>\n",
              "      <th>1</th>\n",
              "      <td>2020-03-18 03:18:14</td>\n",
              "      <td>Seu Zé da Farmácia</td>\n",
              "      <td>seuzedafarmacia</td>\n",
              "      <td>Em ação preventiva, o Governo do Estado suspen...</td>\n",
              "      <td>0</td>\n",
              "      <td>56</td>\n",
              "      <td>pt</td>\n",
              "      <td>NaN</td>\n",
              "      <td>NaN</td>\n",
              "      <td>NaN</td>\n",
              "      <td>NaN</td>\n",
              "      <td>NaN</td>\n",
              "      <td>[]</td>\n",
              "    </tr>\n",
              "    <tr>\n",
              "      <th>2</th>\n",
              "      <td>2020-03-29 12:09:27</td>\n",
              "      <td>Marília Oliveira 🇧🇷</td>\n",
              "      <td>Marioliveira_gb</td>\n",
              "      <td>Incrível como os defensores do fim do distanci...</td>\n",
              "      <td>0</td>\n",
              "      <td>5</td>\n",
              "      <td>pt</td>\n",
              "      <td>NaN</td>\n",
              "      <td>NaN</td>\n",
              "      <td>NaN</td>\n",
              "      <td>NaN</td>\n",
              "      <td>NaN</td>\n",
              "      <td>[]</td>\n",
              "    </tr>\n",
              "    <tr>\n",
              "      <th>3</th>\n",
              "      <td>2020-04-01 21:11:07</td>\n",
              "      <td>🚩</td>\n",
              "      <td>santosodeto</td>\n",
              "      <td>Fumaça de cigarro pode propagar coronavírus? h...</td>\n",
              "      <td>0</td>\n",
              "      <td>1885</td>\n",
              "      <td>pt</td>\n",
              "      <td>NaN</td>\n",
              "      <td>NaN</td>\n",
              "      <td>NaN</td>\n",
              "      <td>NaN</td>\n",
              "      <td>NaN</td>\n",
              "      <td>[]</td>\n",
              "    </tr>\n",
              "    <tr>\n",
              "      <th>4</th>\n",
              "      <td>2020-03-19 17:49:40</td>\n",
              "      <td>Nova Impressão</td>\n",
              "      <td>novaimpressao_</td>\n",
              "      <td>🚨Todos juntos contra COVID-19💪\\n\\nSolicite seu...</td>\n",
              "      <td>0</td>\n",
              "      <td>124</td>\n",
              "      <td>pt</td>\n",
              "      <td>Brasília</td>\n",
              "      <td>Brazil</td>\n",
              "      <td>BR</td>\n",
              "      <td>-47.8778</td>\n",
              "      <td>-15.77691</td>\n",
              "      <td>[]</td>\n",
              "    </tr>\n",
              "  </tbody>\n",
              "</table>\n",
              "</div>"
            ],
            "text/plain": [
              "                  data              usuario  ... longitude hashtags\n",
              "0  2020-03-23 18:51:14             Gaboardi  ...       NaN       []\n",
              "1  2020-03-18 03:18:14   Seu Zé da Farmácia  ...       NaN       []\n",
              "2  2020-03-29 12:09:27  Marília Oliveira 🇧🇷  ...       NaN       []\n",
              "3  2020-04-01 21:11:07                    🚩  ...       NaN       []\n",
              "4  2020-03-19 17:49:40       Nova Impressão  ... -15.77691       []\n",
              "\n",
              "[5 rows x 13 columns]"
            ]
          },
          "metadata": {
            "tags": []
          },
          "execution_count": 7
        }
      ]
    },
    {
      "cell_type": "markdown",
      "metadata": {
        "id": "q9Pp_9VLUNor"
      },
      "source": [
        "**Tamanha da base (com e sem dados duplicados)**\n",
        "\n",
        "---"
      ]
    },
    {
      "cell_type": "code",
      "metadata": {
        "id": "0UdOWQ6AIUx9",
        "outputId": "1002f4b3-e2ae-4c20-aa28-d7d4165086ed",
        "colab": {
          "base_uri": "https://localhost:8080/",
          "height": 35
        }
      },
      "source": [
        "print(\"Total de dados (com duplicados): \", decimaled(load_data.texto.count()), \" completo[\", load_data.texto.count(), \"]\" )"
      ],
      "execution_count": null,
      "outputs": [
        {
          "output_type": "stream",
          "text": [
            "Total de dados (com duplicados):  1.66M  completo[ 1658825 ]\n"
          ],
          "name": "stdout"
        }
      ]
    },
    {
      "cell_type": "code",
      "metadata": {
        "id": "tIAhl5fCURwm",
        "outputId": "bc91a9da-721c-4409-c005-cb34271696f2",
        "colab": {
          "base_uri": "https://localhost:8080/",
          "height": 35
        }
      },
      "source": [
        "print(\"Total de dados (sem duplicados): \", decimaled(raw_data.texto.count()), \" completo[\", raw_data.texto.count(), \"]\" )"
      ],
      "execution_count": null,
      "outputs": [
        {
          "output_type": "stream",
          "text": [
            "Total de dados (sem duplicados):  1.65M  completo[ 1653599 ]\n"
          ],
          "name": "stdout"
        }
      ]
    },
    {
      "cell_type": "markdown",
      "metadata": {
        "id": "7eJHktt7UWiQ"
      },
      "source": [
        "**Twitters por região**\n",
        "\n",
        "---"
      ]
    },
    {
      "cell_type": "code",
      "metadata": {
        "id": "VLU9rgrjUr3F",
        "outputId": "e0d9433a-0548-427a-957b-c3837f2d2035",
        "colab": {
          "base_uri": "https://localhost:8080/",
          "height": 35
        }
      },
      "source": [
        "print(\"Total de twitters com localização: \", decimaled(raw_data['lugar'].count()))"
      ],
      "execution_count": null,
      "outputs": [
        {
          "output_type": "stream",
          "text": [
            "Total de twitters com localização:  74.4K\n"
          ],
          "name": "stdout"
        }
      ]
    },
    {
      "cell_type": "code",
      "metadata": {
        "id": "wlaTwpguaxdC",
        "outputId": "b983d42a-6ead-47ff-dd59-591adaa4ca65",
        "colab": {
          "base_uri": "https://localhost:8080/",
          "height": 35
        }
      },
      "source": [
        "print(\"Percentual em relação à base: \", percentual(value=raw_data['lugar'].count(), total=raw_data.texto.count()))"
      ],
      "execution_count": null,
      "outputs": [
        {
          "output_type": "stream",
          "text": [
            "Percentual em relação à base:  4.50%\n"
          ],
          "name": "stdout"
        }
      ]
    },
    {
      "cell_type": "code",
      "metadata": {
        "id": "ITGCurQyaGu1",
        "outputId": "86ff9107-4df8-4d15-f693-ea77592afbe7",
        "colab": {
          "base_uri": "https://localhost:8080/",
          "height": 108
        }
      },
      "source": [
        "raw_data[raw_data.pais == 'Brazil'].groupby('pais').count()"
      ],
      "execution_count": null,
      "outputs": [
        {
          "output_type": "execute_result",
          "data": {
            "text/html": [
              "<div>\n",
              "<style scoped>\n",
              "    .dataframe tbody tr th:only-of-type {\n",
              "        vertical-align: middle;\n",
              "    }\n",
              "\n",
              "    .dataframe tbody tr th {\n",
              "        vertical-align: top;\n",
              "    }\n",
              "\n",
              "    .dataframe thead th {\n",
              "        text-align: right;\n",
              "    }\n",
              "</style>\n",
              "<table border=\"1\" class=\"dataframe\">\n",
              "  <thead>\n",
              "    <tr style=\"text-align: right;\">\n",
              "      <th></th>\n",
              "      <th>data</th>\n",
              "      <th>usuario</th>\n",
              "      <th>apelido</th>\n",
              "      <th>texto</th>\n",
              "      <th>retweet</th>\n",
              "      <th>seguidores</th>\n",
              "      <th>idioma</th>\n",
              "      <th>lugar</th>\n",
              "      <th>sigla</th>\n",
              "      <th>latitude</th>\n",
              "      <th>longitude</th>\n",
              "      <th>hashtags</th>\n",
              "    </tr>\n",
              "    <tr>\n",
              "      <th>pais</th>\n",
              "      <th></th>\n",
              "      <th></th>\n",
              "      <th></th>\n",
              "      <th></th>\n",
              "      <th></th>\n",
              "      <th></th>\n",
              "      <th></th>\n",
              "      <th></th>\n",
              "      <th></th>\n",
              "      <th></th>\n",
              "      <th></th>\n",
              "      <th></th>\n",
              "    </tr>\n",
              "  </thead>\n",
              "  <tbody>\n",
              "    <tr>\n",
              "      <th>Brazil</th>\n",
              "      <td>67034</td>\n",
              "      <td>67033</td>\n",
              "      <td>67034</td>\n",
              "      <td>67034</td>\n",
              "      <td>67034</td>\n",
              "      <td>67034</td>\n",
              "      <td>67034</td>\n",
              "      <td>67034</td>\n",
              "      <td>67034</td>\n",
              "      <td>7675</td>\n",
              "      <td>7675</td>\n",
              "      <td>67034</td>\n",
              "    </tr>\n",
              "  </tbody>\n",
              "</table>\n",
              "</div>"
            ],
            "text/plain": [
              "         data  usuario  apelido  texto  ...  sigla  latitude  longitude  hashtags\n",
              "pais                                    ...                                      \n",
              "Brazil  67034    67033    67034  67034  ...  67034      7675       7675     67034\n",
              "\n",
              "[1 rows x 12 columns]"
            ]
          },
          "metadata": {
            "tags": []
          },
          "execution_count": 37
        }
      ]
    },
    {
      "cell_type": "code",
      "metadata": {
        "id": "ps5BD0r_DIWX",
        "outputId": "cef26e89-7000-41b6-8273-0b201b334114",
        "colab": {
          "base_uri": "https://localhost:8080/",
          "height": 138
        }
      },
      "source": [
        "raw_data[raw_data.pais == 'Brazil'].groupby(['pais', 'lugar']).count().tail(2)"
      ],
      "execution_count": null,
      "outputs": [
        {
          "output_type": "execute_result",
          "data": {
            "text/html": [
              "<div>\n",
              "<style scoped>\n",
              "    .dataframe tbody tr th:only-of-type {\n",
              "        vertical-align: middle;\n",
              "    }\n",
              "\n",
              "    .dataframe tbody tr th {\n",
              "        vertical-align: top;\n",
              "    }\n",
              "\n",
              "    .dataframe thead th {\n",
              "        text-align: right;\n",
              "    }\n",
              "</style>\n",
              "<table border=\"1\" class=\"dataframe\">\n",
              "  <thead>\n",
              "    <tr style=\"text-align: right;\">\n",
              "      <th></th>\n",
              "      <th></th>\n",
              "      <th>data</th>\n",
              "      <th>usuario</th>\n",
              "      <th>apelido</th>\n",
              "      <th>texto</th>\n",
              "      <th>retweet</th>\n",
              "      <th>seguidores</th>\n",
              "      <th>idioma</th>\n",
              "      <th>sigla</th>\n",
              "      <th>latitude</th>\n",
              "      <th>longitude</th>\n",
              "      <th>hashtags</th>\n",
              "    </tr>\n",
              "    <tr>\n",
              "      <th>pais</th>\n",
              "      <th>lugar</th>\n",
              "      <th></th>\n",
              "      <th></th>\n",
              "      <th></th>\n",
              "      <th></th>\n",
              "      <th></th>\n",
              "      <th></th>\n",
              "      <th></th>\n",
              "      <th></th>\n",
              "      <th></th>\n",
              "      <th></th>\n",
              "      <th></th>\n",
              "    </tr>\n",
              "  </thead>\n",
              "  <tbody>\n",
              "    <tr>\n",
              "      <th rowspan=\"2\" valign=\"top\">Brazil</th>\n",
              "      <th>Érico Cardoso</th>\n",
              "      <td>1</td>\n",
              "      <td>1</td>\n",
              "      <td>1</td>\n",
              "      <td>1</td>\n",
              "      <td>1</td>\n",
              "      <td>1</td>\n",
              "      <td>1</td>\n",
              "      <td>1</td>\n",
              "      <td>1</td>\n",
              "      <td>1</td>\n",
              "      <td>1</td>\n",
              "    </tr>\n",
              "    <tr>\n",
              "      <th>Óbidos</th>\n",
              "      <td>2</td>\n",
              "      <td>2</td>\n",
              "      <td>2</td>\n",
              "      <td>2</td>\n",
              "      <td>2</td>\n",
              "      <td>2</td>\n",
              "      <td>2</td>\n",
              "      <td>2</td>\n",
              "      <td>0</td>\n",
              "      <td>0</td>\n",
              "      <td>2</td>\n",
              "    </tr>\n",
              "  </tbody>\n",
              "</table>\n",
              "</div>"
            ],
            "text/plain": [
              "                      data  usuario  apelido  ...  latitude  longitude  hashtags\n",
              "pais   lugar                                  ...                               \n",
              "Brazil Érico Cardoso     1        1        1  ...         1          1         1\n",
              "       Óbidos            2        2        2  ...         0          0         2\n",
              "\n",
              "[2 rows x 11 columns]"
            ]
          },
          "metadata": {
            "tags": []
          },
          "execution_count": 38
        }
      ]
    },
    {
      "cell_type": "markdown",
      "metadata": {
        "id": "LbzKnGKmkTw-"
      },
      "source": [
        "**Twitters por período**\n",
        "\n",
        "---"
      ]
    },
    {
      "cell_type": "code",
      "metadata": {
        "id": "kakgQL-ekXQZ",
        "outputId": "72a988c4-748e-4b74-fa41-3b0c76162bfc",
        "colab": {
          "base_uri": "https://localhost:8080/",
          "height": 258
        }
      },
      "source": [
        "df_data = pd.DataFrame(raw_data)\n",
        "df_data['data'] = pd.to_datetime(df_data['data'])\n",
        "df_data.index = df_data['data']\n",
        "df_data.drop('data', inplace=True, axis=1)\n",
        "\n",
        "df_res = df_data.resample('M').count()\n",
        "df_res.reset_index(inplace=True)\n",
        "\n",
        "df_res"
      ],
      "execution_count": null,
      "outputs": [
        {
          "output_type": "execute_result",
          "data": {
            "text/html": [
              "<div>\n",
              "<style scoped>\n",
              "    .dataframe tbody tr th:only-of-type {\n",
              "        vertical-align: middle;\n",
              "    }\n",
              "\n",
              "    .dataframe tbody tr th {\n",
              "        vertical-align: top;\n",
              "    }\n",
              "\n",
              "    .dataframe thead th {\n",
              "        text-align: right;\n",
              "    }\n",
              "</style>\n",
              "<table border=\"1\" class=\"dataframe\">\n",
              "  <thead>\n",
              "    <tr style=\"text-align: right;\">\n",
              "      <th></th>\n",
              "      <th>data</th>\n",
              "      <th>usuario</th>\n",
              "      <th>apelido</th>\n",
              "      <th>texto</th>\n",
              "      <th>retweet</th>\n",
              "      <th>seguidores</th>\n",
              "      <th>idioma</th>\n",
              "      <th>lugar</th>\n",
              "      <th>pais</th>\n",
              "      <th>sigla</th>\n",
              "      <th>latitude</th>\n",
              "      <th>longitude</th>\n",
              "      <th>hashtags</th>\n",
              "    </tr>\n",
              "  </thead>\n",
              "  <tbody>\n",
              "    <tr>\n",
              "      <th>0</th>\n",
              "      <td>2020-01-31</td>\n",
              "      <td>54388</td>\n",
              "      <td>54391</td>\n",
              "      <td>54391</td>\n",
              "      <td>54391</td>\n",
              "      <td>54391</td>\n",
              "      <td>54391</td>\n",
              "      <td>2177</td>\n",
              "      <td>2177</td>\n",
              "      <td>2177</td>\n",
              "      <td>80</td>\n",
              "      <td>80</td>\n",
              "      <td>54391</td>\n",
              "    </tr>\n",
              "    <tr>\n",
              "      <th>1</th>\n",
              "      <td>2020-02-29</td>\n",
              "      <td>109485</td>\n",
              "      <td>109489</td>\n",
              "      <td>109489</td>\n",
              "      <td>109489</td>\n",
              "      <td>109489</td>\n",
              "      <td>109489</td>\n",
              "      <td>4305</td>\n",
              "      <td>4305</td>\n",
              "      <td>4305</td>\n",
              "      <td>225</td>\n",
              "      <td>225</td>\n",
              "      <td>109489</td>\n",
              "    </tr>\n",
              "    <tr>\n",
              "      <th>2</th>\n",
              "      <td>2020-03-31</td>\n",
              "      <td>480112</td>\n",
              "      <td>480128</td>\n",
              "      <td>480128</td>\n",
              "      <td>480128</td>\n",
              "      <td>480128</td>\n",
              "      <td>480128</td>\n",
              "      <td>23487</td>\n",
              "      <td>23486</td>\n",
              "      <td>23484</td>\n",
              "      <td>2561</td>\n",
              "      <td>2561</td>\n",
              "      <td>480128</td>\n",
              "    </tr>\n",
              "    <tr>\n",
              "      <th>3</th>\n",
              "      <td>2020-04-30</td>\n",
              "      <td>469321</td>\n",
              "      <td>469334</td>\n",
              "      <td>469334</td>\n",
              "      <td>469334</td>\n",
              "      <td>469334</td>\n",
              "      <td>469334</td>\n",
              "      <td>21318</td>\n",
              "      <td>21317</td>\n",
              "      <td>21315</td>\n",
              "      <td>2516</td>\n",
              "      <td>2516</td>\n",
              "      <td>469334</td>\n",
              "    </tr>\n",
              "    <tr>\n",
              "      <th>4</th>\n",
              "      <td>2020-05-31</td>\n",
              "      <td>283219</td>\n",
              "      <td>283229</td>\n",
              "      <td>283229</td>\n",
              "      <td>283229</td>\n",
              "      <td>283229</td>\n",
              "      <td>283229</td>\n",
              "      <td>12780</td>\n",
              "      <td>12777</td>\n",
              "      <td>12777</td>\n",
              "      <td>1993</td>\n",
              "      <td>1993</td>\n",
              "      <td>283229</td>\n",
              "    </tr>\n",
              "    <tr>\n",
              "      <th>5</th>\n",
              "      <td>2020-06-30</td>\n",
              "      <td>257022</td>\n",
              "      <td>257027</td>\n",
              "      <td>257027</td>\n",
              "      <td>257027</td>\n",
              "      <td>257027</td>\n",
              "      <td>257027</td>\n",
              "      <td>10316</td>\n",
              "      <td>10316</td>\n",
              "      <td>10315</td>\n",
              "      <td>1345</td>\n",
              "      <td>1345</td>\n",
              "      <td>257027</td>\n",
              "    </tr>\n",
              "    <tr>\n",
              "      <th>6</th>\n",
              "      <td>2020-07-31</td>\n",
              "      <td>1</td>\n",
              "      <td>1</td>\n",
              "      <td>1</td>\n",
              "      <td>1</td>\n",
              "      <td>1</td>\n",
              "      <td>1</td>\n",
              "      <td>0</td>\n",
              "      <td>0</td>\n",
              "      <td>0</td>\n",
              "      <td>0</td>\n",
              "      <td>0</td>\n",
              "      <td>1</td>\n",
              "    </tr>\n",
              "  </tbody>\n",
              "</table>\n",
              "</div>"
            ],
            "text/plain": [
              "        data  usuario  apelido   texto  ...  sigla  latitude  longitude  hashtags\n",
              "0 2020-01-31    54388    54391   54391  ...   2177        80         80     54391\n",
              "1 2020-02-29   109485   109489  109489  ...   4305       225        225    109489\n",
              "2 2020-03-31   480112   480128  480128  ...  23484      2561       2561    480128\n",
              "3 2020-04-30   469321   469334  469334  ...  21315      2516       2516    469334\n",
              "4 2020-05-31   283219   283229  283229  ...  12777      1993       1993    283229\n",
              "5 2020-06-30   257022   257027  257027  ...  10315      1345       1345    257027\n",
              "6 2020-07-31        1        1       1  ...      0         0          0         1\n",
              "\n",
              "[7 rows x 13 columns]"
            ]
          },
          "metadata": {
            "tags": []
          },
          "execution_count": 41
        }
      ]
    },
    {
      "cell_type": "code",
      "metadata": {
        "id": "yUWk6fTgGQXE",
        "outputId": "d391a71c-b348-490e-b612-8901b279e58e",
        "colab": {
          "base_uri": "https://localhost:8080/",
          "height": 395
        }
      },
      "source": [
        "df_res.plot(kind='bar',x='data',y='texto')"
      ],
      "execution_count": null,
      "outputs": [
        {
          "output_type": "execute_result",
          "data": {
            "text/plain": [
              "<matplotlib.axes._subplots.AxesSubplot at 0x7fb42c073908>"
            ]
          },
          "metadata": {
            "tags": []
          },
          "execution_count": 42
        },
        {
          "output_type": "display_data",
          "data": {
            "image/png": "[encoded data removed]",
            "text/plain": [
              "<Figure size 432x288 with 1 Axes>"
            ]
          },
          "metadata": {
            "tags": [],
            "needs_background": "light"
          }
        }
      ]
    },
    {
      "cell_type": "markdown",
      "metadata": {
        "id": "0tthsrR1I9eJ"
      },
      "source": [
        "*Rascunho geral*"
      ]
    },
    {
      "cell_type": "code",
      "metadata": {
        "id": "r7Ls1vHDjqZW"
      },
      "source": [
        "from nltk.corpus import stopwords\n",
        "from string import punctuation\n",
        "stopwords = set(stopwords.words('portuguese') + list(punctuation))\n",
        "\n",
        "#list(punctuation)\n",
        "\n",
        "palavras_sem_stopwords = [palavra for palavra in sentencas if palavra not in stopwords]\n",
        "palavras_sem_stopwords"
      ],
      "execution_count": null,
      "outputs": []
    },
    {
      "cell_type": "markdown",
      "metadata": {
        "id": "o6NGg0s3Kesj"
      },
      "source": [
        "#Pré-processamento"
      ]
    },
    {
      "cell_type": "markdown",
      "metadata": {
        "id": "IfWoFSpFKzuP"
      },
      "source": [
        "**Mineração de Perguntas**\n"
      ]
    },
    {
      "cell_type": "code",
      "metadata": {
        "id": "XsJo_dMEK6nu"
      },
      "source": [
        "sent_tokenize(raw_data['texto'][7159]) # this gives us a list of sentences"
      ],
      "execution_count": null,
      "outputs": []
    },
    {
      "cell_type": "markdown",
      "metadata": {
        "id": "ZFYd0NWyLGFN"
      },
      "source": [
        "*Mineração para Recuperação de Perguntas na Base*"
      ]
    },
    {
      "cell_type": "markdown",
      "metadata": {
        "id": "q4DtTRNOLNx3"
      },
      "source": [
        "Somente as perguntas"
      ]
    },
    {
      "cell_type": "code",
      "metadata": {
        "id": "lCbsPdXeMaOd"
      },
      "source": [
        "valor = len(raw_data['texto'])"
      ],
      "execution_count": null,
      "outputs": []
    },
    {
      "cell_type": "code",
      "metadata": {
        "id": "uF6H0Jx7LULt"
      },
      "source": [
        "twitter = []\n",
        "perguntas = []\n",
        "erro = []\n",
        "for i in range(0, 100):\n",
        "  try:\n",
        "    twitter.append(sent_tokenize(raw_data[i]))   \n",
        "    for sentencas in twitter: \n",
        "      for row in sentencas:\n",
        "        palavras = word_tokenize(row.lower())\n",
        "        for palavra in palavras:\n",
        "          if palavra == '?':\n",
        "            perguntas.append([row,i]) \n",
        "            break\n",
        "    twitter.clear()\n",
        "  except:\n",
        "    erro.append(i)"
      ],
      "execution_count": null,
      "outputs": []
    },
    {
      "cell_type": "markdown",
      "metadata": {
        "id": "lzeQPdWkLVOc"
      },
      "source": [
        "Perguntas por twitter"
      ]
    },
    {
      "cell_type": "code",
      "metadata": {
        "id": "W9PuDU_mLaV_"
      },
      "source": [
        "twitter = []\n",
        "perguntas = []\n",
        "erro = []\n",
        "for i in range(0,100):\n",
        "  try:\n",
        "    twitter.append(sent_tokenize(raw_data['texto'][i]))   \n",
        "    for sentencas in twitter: \n",
        "      flgPergunta = 0;\n",
        "      for row in sentencas:\n",
        "        palavras = word_tokenize(row.lower())\n",
        "        for palavra in palavras:\n",
        "          if palavra == '?':\n",
        "            flgPergunta = 1;\n",
        "            break\n",
        "    if flgPergunta == 1:\n",
        "      perguntas.append([raw_data['texto'][i],i,raw_data['texto'][i]])           \n",
        "    twitter.clear()\n",
        "  except:\n",
        "    erro.append(i)"
      ],
      "execution_count": null,
      "outputs": []
    },
    {
      "cell_type": "markdown",
      "metadata": {
        "id": "mq4rN3dKLuqG"
      },
      "source": [
        "Resumo"
      ]
    },
    {
      "cell_type": "code",
      "metadata": {
        "id": "hSDyCQyFLohd",
        "outputId": "21910a77-6cb2-4163-f584-c55f6cd425b2",
        "colab": {
          "base_uri": "https://localhost:8080/",
          "height": 35
        }
      },
      "source": [
        "print('Quantidade de registros que quebrariam a mineração: ', decimaled(len(erro)), 'completo[', len(erro), ']')"
      ],
      "execution_count": null,
      "outputs": [
        {
          "output_type": "stream",
          "text": [
            "Quantidade de registros que quebrariam a mineração:  5.2K completo[ 5201 ]\n"
          ],
          "name": "stdout"
        }
      ]
    },
    {
      "cell_type": "code",
      "metadata": {
        "id": "Q_dLclc4Lt-u",
        "outputId": "2ddcd813-3ef8-4046-a88a-d9bf2505fd38",
        "colab": {
          "base_uri": "https://localhost:8080/",
          "height": 35
        }
      },
      "source": [
        "print('Quantidade de perguntas extraída: ', decimaled(len(perguntas)), 'completo[', len(perguntas), ']')"
      ],
      "execution_count": null,
      "outputs": [
        {
          "output_type": "stream",
          "text": [
            "Quantidade de perguntas extraída:  205K completo[ 205381 ]\n"
          ],
          "name": "stdout"
        }
      ]
    },
    {
      "cell_type": "markdown",
      "metadata": {
        "id": "WNKmc6hoL0sN"
      },
      "source": [
        "**DataSet gerado para a análise**"
      ]
    },
    {
      "cell_type": "code",
      "metadata": {
        "id": "SPl9T61XL0MR"
      },
      "source": [
        "# df_DuvidasDB = pd.DataFrame(perguntas, columns=['Perguntas','Indice'])\n",
        "# df_DuvidasDB.to_csv(r'drive/My Drive/twitter/duvidasdb.csv', index = False)\n",
        "# df_DuvidasDB.head(1)\n",
        "# question = df_DuvidasDB.Perguntas[1]\n",
        "questions = \" \".join(twitter for twitter in duvidas_file.Perguntas)"
      ],
      "execution_count": 12,
      "outputs": []
    },
    {
      "cell_type": "code",
      "metadata": {
        "id": "Ej0jY6iUMBxL",
        "outputId": "b4b06796-60d0-403b-d12d-db788e4668d3",
        "colab": {
          "base_uri": "https://localhost:8080/",
          "height": 198
        }
      },
      "source": [
        "wordcloud = WordCloud(background_color=\"white\").generate(questions)\n",
        "plt.figure()\n",
        "plt.imshow(wordcloud, interpolation='bilinear')\n",
        "plt.axis(\"off\")\n",
        "plt.show()"
      ],
      "execution_count": 13,
      "outputs": [
        {
          "output_type": "display_data",
          "data": {
            "image/png": "[encoded data removed]",
            "text/plain": [
              "<Figure size 432x288 with 1 Axes>"
            ]
          },
          "metadata": {
            "tags": [],
            "needs_background": "light"
          }
        }
      ]
    },
    {
      "cell_type": "markdown",
      "metadata": {
        "id": "uLXDaaRLZTz5"
      },
      "source": [
        "# Processamento"
      ]
    },
    {
      "cell_type": "code",
      "metadata": {
        "id": "HVh6NpD8ZXCb"
      },
      "source": [
        "short_data = duvidas_file.head(5)\n",
        "text_processed = []"
      ],
      "execution_count": 14,
      "outputs": []
    },
    {
      "cell_type": "code",
      "metadata": {
        "id": "qf2aLy97ZjFR"
      },
      "source": [
        "for index, question in duvidas_file.iterrows():\n",
        "  item = filtering(question.Perguntas)\n",
        "  item = rm_accents(item)\n",
        "  item = rm_stopwords(item)\n",
        "  item = tokenize(item)\n",
        "  item = stemming(item)\n",
        "  text_processed.append(item)"
      ],
      "execution_count": 27,
      "outputs": []
    },
    {
      "cell_type": "code",
      "metadata": {
        "id": "CLBrvE7GcDDz"
      },
      "source": [
        "vectorizer = TfidfVectorizer(use_idf=True)\n",
        "bag_of_words = vectorizer.fit_transform(text_processed)"
      ],
      "execution_count": 32,
      "outputs": []
    },
    {
      "cell_type": "code",
      "metadata": {
        "id": "UkTSRCy8jQ0m"
      },
      "source": [
        "kmeans = KMeans(init = 'k-means++', max_iter = 600).fit(bag_of_words)"
      ],
      "execution_count": 33,
      "outputs": []
    },
    {
      "cell_type": "code",
      "metadata": {
        "id": "y39NGkUZju5U"
      },
      "source": [
        "predict = kmeans.predict(bag_of_words)"
      ],
      "execution_count": 34,
      "outputs": []
    },
    {
      "cell_type": "code",
      "metadata": {
        "id": "y0pwUjbckjn3"
      },
      "source": [
        "labels = kmeans.labels_\n",
        "distance = kmeans.fit_transform(bag_of_words)"
      ],
      "execution_count": 37,
      "outputs": []
    },
    {
      "cell_type": "code",
      "metadata": {
        "id": "eLdPcRTDk488",
        "outputId": "a56c657a-be57-46ba-d5fc-b9ba66adbb5a",
        "colab": {
          "base_uri": "https://localhost:8080/",
          "height": 295
        }
      },
      "source": [
        "plt.scatter(distance[:, 0], distance[:,1], s = 50, c = labels, alpha=0.5)\n",
        "plt.scatter(kmeans.cluster_centers_[:, 0], kmeans.cluster_centers_[:, 1], s = 50, c = 'red', label = 'Centroids')\n",
        "#plt.scatter(kmeans.cluster_centers_[:, 0], kmeans.cluster_centers_[:, 1], s = 300, color = 'black', alpha=0.5)\n",
        "plt.title('Clusterização Perguntas - COVID-19')\n",
        "plt.xlabel('X')\n",
        "plt.ylabel('Y')\n",
        "plt.legend()\n",
        "plt.show()"
      ],
      "execution_count": 38,
      "outputs": [
        {
          "output_type": "display_data",
          "data": {
            "image/png": "[encoded data removed]",
            "text/plain": [
              "<Figure size 432x288 with 1 Axes>"
            ]
          },
          "metadata": {
            "tags": [],
            "needs_background": "light"
          }
        }
      ]
    }
  ]
}