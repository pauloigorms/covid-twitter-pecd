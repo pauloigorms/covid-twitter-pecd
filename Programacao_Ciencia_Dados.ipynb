{
  "nbformat": 4,
  "nbformat_minor": 0,
  "metadata": {
    "colab": {
      "name": "Programacao-Ciencia-Dados.ipynb",
      "provenance": [],
      "collapsed_sections": [],
      "include_colab_link": true
    },
    "kernelspec": {
      "name": "python3",
      "display_name": "Python 3"
    }
  },
  "cells": [
    {
      "cell_type": "markdown",
      "metadata": {
        "id": "view-in-github",
        "colab_type": "text"
      },
      "source": [
        "<a href=\"https://colab.research.google.com/github/pauloigorms/covid-twitter-pecd/blob/main/Programacao_Ciencia_Dados.ipynb\" target=\"_parent\"><img src=\"https://colab.research.google.com/assets/colab-badge.svg\" alt=\"Open In Colab\"/></a>"
      ]
    },
    {
      "cell_type": "markdown",
      "metadata": {
        "id": "FW6he9b_DrDZ"
      },
      "source": [
        "# **PROGRAMAÇÃO PARA CIÊNCIA DE DADOS**\n",
        "\n",
        "**Equipe**: Cássio de Paula / Paulo Moraes [(website)](https://paulomoraes.me).\n",
        "\n",
        "**Objetivo**: analisar as mensagens\n",
        "trocadas por usuários do Twitter sobre a COVID-19, com o intuito de realizar uma análise\n",
        "exploratória e visualização de dados, passando também pelas etapas de limpeza e organização.\n",
        "Mais especificamente, as equipes devem explorar a análise nas perguntas (questões) dos usuários,\n",
        "pois arguimos que seja um tipo de mensagem apropriado para se compreender as principais dúvidas\n",
        "das pessoas sobre a atual pandemia.\n"
      ]
    },
    {
      "cell_type": "markdown",
      "metadata": {
        "id": "je-S-DmZmjzu"
      },
      "source": [
        "# **INFORMAÇÕES GERAIS**\n",
        "\n",
        "### **ARTEFATOS**\n",
        "\n",
        "\n",
        "*   Relatório Técnico - *Um notebook com o texto e o código-fonte apresentado na ferramenta Google COLAB*; \n",
        "*   Repositório no GitHub.\n",
        "\n",
        "\n",
        "### **ATIVIDADES**\n",
        "\n",
        "\n",
        "*   Importar base de dados;\n",
        "*   Tratar base de dados;\n",
        "*   Identificar as perguntas (questões) descritas nas mensagens;\n",
        "*   Salvar coleção com a identificação das perguntas em um novo dataset chamado \"DuvidasDB\".\n",
        "\n",
        "\n",
        "### **DO RESULTADO**\n",
        "\n",
        "\n",
        "1.   Devem apresentar um resumo (sumário) com as estatísticas dos dados originais, elas podem ser apresentadas através de tabelas e/ou gráficos;\n",
        "2.   Com a coleção resultando da identificação das perguntas a equipe deve apresentar as estatísticas sobre estes dados.\n",
        "\n",
        "\n",
        "### **TEMAS DISCUTIDOS**\n",
        "\n",
        "As equipes devem fazer uma análise sobre os temas que são debatidos nas perguntas dos postadas pelos usuários. Faça uma análise se as perguntas são relativas aos seguintes temas:\n",
        "\n",
        "*   Doença. Quando a pergunta é relativa à doença Deve-se observar que a doença é identificada por vários nomes. Exemplo: coronavírus, corona, COVID-19, etc;\n",
        "*   Medicamento. Quando a pergunta é sobre o uso de determinado medicamento no tratamento da doença;\n",
        "*   Organizações. Quando a pergunta é relativa a uma determinada entidade ou organização. Emissora de TV, Ministério da Saúde ou empresas são exemplos de organizações;\n",
        "*   Pessoas. Quando a pergunta é sobre determinada pessoa. Por exemplo, a pergunta pode ser sobre a atuação que determinado político ou pessoa famosa teve durante esse período de pandemia."
      ]
    },
    {
      "cell_type": "markdown",
      "metadata": {
        "id": "g29dcuadqXJx"
      },
      "source": [
        "# **VISÃO DOS DADOS**\n",
        "\n",
        "> **Visão Temporal** - Deve-se fazer uma análise temporal das perguntas que formam o dataset *DuvidasDB*. Pode-se considerar o intervalo temporal de dias, semanas ou meses. A escolha do intervalo de tempo ficará a cargo das equipes. Exemplos de análise temporal: a) houve um aumento no número de perguntas\n",
        "ao longo do tempo? b) houve uma mudança no perfil das perguntas ao longo do tempo?\n",
        "\n",
        "> **Visão Geográfica** - Deve-se fazer uma análise geográfica (espacial) das perguntas que formam o dataset *DuvidasDB*. Existem algumas colunas no dataset que trazem a informação das localizações como, por exemplo, o país, estado e cidade. Em alguns tuítes é possível ainda identificar as coordenadas geográficas\n",
        "de latitude e longitude. Exemplo de análise geográfica: a) os usuários de regiões diferentes fazem\n",
        "perguntas com diferentes focos? Por exemplo, será que os usuários de uma região perguntam mais\n",
        "sobre a doença ou sobre o tratamento? Essa análise ainda pode ser realizada em diversos níveis de\n",
        "área (cidade, estado ou região). Além de apresentar a distribuição das dúvidas dos usuários por\n",
        "região, a equipe deverá fazer uma análise dessa distribuição. Por exemplo, apresentar as razões\n",
        "(ou hipóteses) da ocorrência dessa distribuição.\n"
      ]
    },
    {
      "cell_type": "markdown",
      "metadata": {
        "id": "NFGZlZOM9Olf"
      },
      "source": [
        "# **INICIANDO O PROJETO**"
      ]
    },
    {
      "cell_type": "markdown",
      "metadata": {
        "id": "CmzwguY49akk"
      },
      "source": [
        "IMPORTANDO LIBS"
      ]
    },
    {
      "cell_type": "code",
      "metadata": {
        "id": "OtF4CpSYD5_Q",
        "outputId": "b309d735-762f-476f-bef7-321d8f7780b5",
        "colab": {
          "base_uri": "https://localhost:8080/",
          "height": 85
        }
      },
      "source": [
        "import pandas as pd\n",
        "import numpy as np\n",
        "import matplotlib.pyplot as plt\n",
        "from google.colab import drive\n",
        "import nltk as nltk\n",
        "nltk.download('punkt')\n",
        "nltk.download('stopwords')\n",
        "from nltk.tokenize import sent_tokenize, word_tokenize\n",
        "from pandas import DataFrame"
      ],
      "execution_count": null,
      "outputs": [
        {
          "output_type": "stream",
          "text": [
            "[nltk_data] Downloading package punkt to /root/nltk_data...\n",
            "[nltk_data]   Unzipping tokenizers/punkt.zip.\n",
            "[nltk_data] Downloading package stopwords to /root/nltk_data...\n",
            "[nltk_data]   Unzipping corpora/stopwords.zip.\n"
          ],
          "name": "stdout"
        }
      ]
    },
    {
      "cell_type": "markdown",
      "metadata": {
        "id": "aYFxuSq1qU5f"
      },
      "source": [
        "LEITURA DO ARQUIVO DE DADOS BASE"
      ]
    },
    {
      "cell_type": "code",
      "metadata": {
        "id": "aH5GF4F_9rqC",
        "outputId": "3400fddf-fc94-4886-88d8-5e4a927af8c7",
        "colab": {
          "base_uri": "https://localhost:8080/",
          "height": 34
        }
      },
      "source": [
        "drive.mount('/content/drive')\n",
        "load_data = pd.read_csv('drive/My Drive/twitter/dados-curso-completo.csv', sep= ',',skiprows=0, encoding='utf-8')\n",
        "raw_data = load_data.drop_duplicates(['texto'])"
      ],
      "execution_count": null,
      "outputs": [
        {
          "output_type": "stream",
          "text": [
            "Mounted at /content/drive\n"
          ],
          "name": "stdout"
        }
      ]
    },
    {
      "cell_type": "markdown",
      "metadata": {
        "id": "OQxP9ol8X6bz"
      },
      "source": [
        "#Funções"
      ]
    },
    {
      "cell_type": "markdown",
      "metadata": {
        "id": "ZZf-StuOYC0W"
      },
      "source": [
        "Função: **Cálcular Percente**"
      ]
    },
    {
      "cell_type": "code",
      "metadata": {
        "id": "kiYA2slHX82X"
      },
      "source": [
        "def calc_percente(value, total): \n",
        "    if not value and not total: \n",
        "       return print(\"value = 0% \\n total = 0%\") \n",
        "    elif value < 0 or total < 0: \n",
        "       return print(\"não aceita valor negativo!\") \n",
        "    else: \n",
        "       return print('{0:.2f}%'.format((value / total * 100)))"
      ],
      "execution_count": null,
      "outputs": []
    },
    {
      "cell_type": "markdown",
      "metadata": {
        "id": "OngP8Xv_k22G"
      },
      "source": [
        "Função: **Formatar String**"
      ]
    },
    {
      "cell_type": "code",
      "metadata": {
        "id": "lZ48Iorjk5tf"
      },
      "source": [
        "def spliting(text):\n",
        "  return text.split()"
      ],
      "execution_count": null,
      "outputs": []
    },
    {
      "cell_type": "markdown",
      "metadata": {
        "id": "HknnQelaBHqx"
      },
      "source": [
        "#Estatísticas bases\n"
      ]
    },
    {
      "cell_type": "markdown",
      "metadata": {
        "id": "wTIaTc5vPjKM"
      },
      "source": [
        "**Exemplo da base de dados**\n",
        "\n",
        "---\n",
        "\n"
      ]
    },
    {
      "cell_type": "code",
      "metadata": {
        "id": "cXOV8qT8NoPA",
        "outputId": "290ca841-648f-4d77-cc05-d3f0566aa552",
        "colab": {
          "base_uri": "https://localhost:8080/",
          "height": 204
        }
      },
      "source": [
        "raw_data.head(5)\n",
        "# nodp_data.info()"
      ],
      "execution_count": null,
      "outputs": [
        {
          "output_type": "execute_result",
          "data": {
            "text/html": [
              "<div>\n",
              "<style scoped>\n",
              "    .dataframe tbody tr th:only-of-type {\n",
              "        vertical-align: middle;\n",
              "    }\n",
              "\n",
              "    .dataframe tbody tr th {\n",
              "        vertical-align: top;\n",
              "    }\n",
              "\n",
              "    .dataframe thead th {\n",
              "        text-align: right;\n",
              "    }\n",
              "</style>\n",
              "<table border=\"1\" class=\"dataframe\">\n",
              "  <thead>\n",
              "    <tr style=\"text-align: right;\">\n",
              "      <th></th>\n",
              "      <th>data</th>\n",
              "      <th>usuario</th>\n",
              "      <th>apelido</th>\n",
              "      <th>texto</th>\n",
              "      <th>retweet</th>\n",
              "      <th>seguidores</th>\n",
              "      <th>idioma</th>\n",
              "      <th>lugar</th>\n",
              "      <th>pais</th>\n",
              "      <th>sigla</th>\n",
              "      <th>latitude</th>\n",
              "      <th>longitude</th>\n",
              "      <th>hashtags</th>\n",
              "    </tr>\n",
              "  </thead>\n",
              "  <tbody>\n",
              "    <tr>\n",
              "      <th>0</th>\n",
              "      <td>2020-03-23 18:51:14</td>\n",
              "      <td>Gaboardi</td>\n",
              "      <td>fraslee</td>\n",
              "      <td>@BolsonaroSP Cade o fundão deputado??? Congres...</td>\n",
              "      <td>0</td>\n",
              "      <td>138</td>\n",
              "      <td>pt</td>\n",
              "      <td>NaN</td>\n",
              "      <td>NaN</td>\n",
              "      <td>NaN</td>\n",
              "      <td>NaN</td>\n",
              "      <td>NaN</td>\n",
              "      <td>[]</td>\n",
              "    </tr>\n",
              "    <tr>\n",
              "      <th>1</th>\n",
              "      <td>2020-03-18 03:18:14</td>\n",
              "      <td>Seu Zé da Farmácia</td>\n",
              "      <td>seuzedafarmacia</td>\n",
              "      <td>Em ação preventiva, o Governo do Estado suspen...</td>\n",
              "      <td>0</td>\n",
              "      <td>56</td>\n",
              "      <td>pt</td>\n",
              "      <td>NaN</td>\n",
              "      <td>NaN</td>\n",
              "      <td>NaN</td>\n",
              "      <td>NaN</td>\n",
              "      <td>NaN</td>\n",
              "      <td>[]</td>\n",
              "    </tr>\n",
              "    <tr>\n",
              "      <th>2</th>\n",
              "      <td>2020-03-29 12:09:27</td>\n",
              "      <td>Marília Oliveira 🇧🇷</td>\n",
              "      <td>Marioliveira_gb</td>\n",
              "      <td>Incrível como os defensores do fim do distanci...</td>\n",
              "      <td>0</td>\n",
              "      <td>5</td>\n",
              "      <td>pt</td>\n",
              "      <td>NaN</td>\n",
              "      <td>NaN</td>\n",
              "      <td>NaN</td>\n",
              "      <td>NaN</td>\n",
              "      <td>NaN</td>\n",
              "      <td>[]</td>\n",
              "    </tr>\n",
              "    <tr>\n",
              "      <th>3</th>\n",
              "      <td>2020-04-01 21:11:07</td>\n",
              "      <td>🚩</td>\n",
              "      <td>santosodeto</td>\n",
              "      <td>Fumaça de cigarro pode propagar coronavírus? h...</td>\n",
              "      <td>0</td>\n",
              "      <td>1885</td>\n",
              "      <td>pt</td>\n",
              "      <td>NaN</td>\n",
              "      <td>NaN</td>\n",
              "      <td>NaN</td>\n",
              "      <td>NaN</td>\n",
              "      <td>NaN</td>\n",
              "      <td>[]</td>\n",
              "    </tr>\n",
              "    <tr>\n",
              "      <th>4</th>\n",
              "      <td>2020-03-19 17:49:40</td>\n",
              "      <td>Nova Impressão</td>\n",
              "      <td>novaimpressao_</td>\n",
              "      <td>🚨Todos juntos contra COVID-19💪\\n\\nSolicite seu...</td>\n",
              "      <td>0</td>\n",
              "      <td>124</td>\n",
              "      <td>pt</td>\n",
              "      <td>Brasília</td>\n",
              "      <td>Brazil</td>\n",
              "      <td>BR</td>\n",
              "      <td>-47.8778</td>\n",
              "      <td>-15.77691</td>\n",
              "      <td>[]</td>\n",
              "    </tr>\n",
              "  </tbody>\n",
              "</table>\n",
              "</div>"
            ],
            "text/plain": [
              "                  data              usuario  ... longitude hashtags\n",
              "0  2020-03-23 18:51:14             Gaboardi  ...       NaN       []\n",
              "1  2020-03-18 03:18:14   Seu Zé da Farmácia  ...       NaN       []\n",
              "2  2020-03-29 12:09:27  Marília Oliveira 🇧🇷  ...       NaN       []\n",
              "3  2020-04-01 21:11:07                    🚩  ...       NaN       []\n",
              "4  2020-03-19 17:49:40       Nova Impressão  ... -15.77691       []\n",
              "\n",
              "[5 rows x 13 columns]"
            ]
          },
          "metadata": {
            "tags": []
          },
          "execution_count": 8
        }
      ]
    },
    {
      "cell_type": "markdown",
      "metadata": {
        "id": "q9Pp_9VLUNor"
      },
      "source": [
        "**Tamanha da base (com e sem dados duplicados)**\n",
        "\n",
        "---"
      ]
    },
    {
      "cell_type": "code",
      "metadata": {
        "id": "tIAhl5fCURwm",
        "outputId": "f8eda2c6-568c-4917-cdb7-2540e132482b",
        "colab": {
          "base_uri": "https://localhost:8080/",
          "height": 34
        }
      },
      "source": [
        "# Total com duplicados: 1.658.825\n",
        "# Total sem duplicados = 1.653.599\n",
        "raw_data.texto.count()"
      ],
      "execution_count": null,
      "outputs": [
        {
          "output_type": "execute_result",
          "data": {
            "text/plain": [
              "1653599"
            ]
          },
          "metadata": {
            "tags": []
          },
          "execution_count": 9
        }
      ]
    },
    {
      "cell_type": "markdown",
      "metadata": {
        "id": "7eJHktt7UWiQ"
      },
      "source": [
        "**Twitters por região**\n",
        "\n",
        "---"
      ]
    },
    {
      "cell_type": "code",
      "metadata": {
        "id": "VLU9rgrjUr3F",
        "outputId": "efbeb969-2464-430f-c64a-e3aeec0eacea",
        "colab": {
          "base_uri": "https://localhost:8080/",
          "height": 34
        }
      },
      "source": [
        "# Total de twitters com localização = 74.383\n",
        "raw_data['lugar'].count()"
      ],
      "execution_count": null,
      "outputs": [
        {
          "output_type": "execute_result",
          "data": {
            "text/plain": [
              "74383"
            ]
          },
          "metadata": {
            "tags": []
          },
          "execution_count": 10
        }
      ]
    },
    {
      "cell_type": "code",
      "metadata": {
        "id": "wlaTwpguaxdC",
        "outputId": "5b242278-7e5c-4fb6-9088-7db7ab776803",
        "colab": {
          "base_uri": "https://localhost:8080/",
          "height": 34
        }
      },
      "source": [
        "# Percentual em relação à base = 4.50%\n",
        "calc_percente(value=raw_data['lugar'].count(), total=raw_data.texto.count())"
      ],
      "execution_count": null,
      "outputs": [
        {
          "output_type": "stream",
          "text": [
            "4.50%\n"
          ],
          "name": "stdout"
        }
      ]
    },
    {
      "cell_type": "code",
      "metadata": {
        "id": "ITGCurQyaGu1",
        "outputId": "6c899aa8-aa30-4ddb-dd7f-02deda75ee02",
        "colab": {
          "base_uri": "https://localhost:8080/",
          "height": 111
        }
      },
      "source": [
        "# Total por país\n",
        "raw_data[raw_data.pais == 'Brazil'].groupby('pais').count()"
      ],
      "execution_count": null,
      "outputs": [
        {
          "output_type": "execute_result",
          "data": {
            "text/html": [
              "<div>\n",
              "<style scoped>\n",
              "    .dataframe tbody tr th:only-of-type {\n",
              "        vertical-align: middle;\n",
              "    }\n",
              "\n",
              "    .dataframe tbody tr th {\n",
              "        vertical-align: top;\n",
              "    }\n",
              "\n",
              "    .dataframe thead th {\n",
              "        text-align: right;\n",
              "    }\n",
              "</style>\n",
              "<table border=\"1\" class=\"dataframe\">\n",
              "  <thead>\n",
              "    <tr style=\"text-align: right;\">\n",
              "      <th></th>\n",
              "      <th>data</th>\n",
              "      <th>usuario</th>\n",
              "      <th>apelido</th>\n",
              "      <th>texto</th>\n",
              "      <th>retweet</th>\n",
              "      <th>seguidores</th>\n",
              "      <th>idioma</th>\n",
              "      <th>lugar</th>\n",
              "      <th>sigla</th>\n",
              "      <th>latitude</th>\n",
              "      <th>longitude</th>\n",
              "      <th>hashtags</th>\n",
              "    </tr>\n",
              "    <tr>\n",
              "      <th>pais</th>\n",
              "      <th></th>\n",
              "      <th></th>\n",
              "      <th></th>\n",
              "      <th></th>\n",
              "      <th></th>\n",
              "      <th></th>\n",
              "      <th></th>\n",
              "      <th></th>\n",
              "      <th></th>\n",
              "      <th></th>\n",
              "      <th></th>\n",
              "      <th></th>\n",
              "    </tr>\n",
              "  </thead>\n",
              "  <tbody>\n",
              "    <tr>\n",
              "      <th>Brazil</th>\n",
              "      <td>67034</td>\n",
              "      <td>67033</td>\n",
              "      <td>67034</td>\n",
              "      <td>67034</td>\n",
              "      <td>67034</td>\n",
              "      <td>67034</td>\n",
              "      <td>67034</td>\n",
              "      <td>67034</td>\n",
              "      <td>67034</td>\n",
              "      <td>7675</td>\n",
              "      <td>7675</td>\n",
              "      <td>67034</td>\n",
              "    </tr>\n",
              "  </tbody>\n",
              "</table>\n",
              "</div>"
            ],
            "text/plain": [
              "         data  usuario  apelido  texto  ...  sigla  latitude  longitude  hashtags\n",
              "pais                                    ...                                      \n",
              "Brazil  67034    67033    67034  67034  ...  67034      7675       7675     67034\n",
              "\n",
              "[1 rows x 12 columns]"
            ]
          },
          "metadata": {
            "tags": []
          },
          "execution_count": 12
        }
      ]
    },
    {
      "cell_type": "code",
      "metadata": {
        "id": "ps5BD0r_DIWX",
        "outputId": "969c55cb-d59a-47b5-c635-a14a1faf3ac5",
        "colab": {
          "base_uri": "https://localhost:8080/",
          "height": 142
        }
      },
      "source": [
        "# Total por localização\n",
        "raw_data[raw_data.pais == 'Brazil'].groupby(['pais', 'lugar']).count().tail(2)"
      ],
      "execution_count": null,
      "outputs": [
        {
          "output_type": "execute_result",
          "data": {
            "text/html": [
              "<div>\n",
              "<style scoped>\n",
              "    .dataframe tbody tr th:only-of-type {\n",
              "        vertical-align: middle;\n",
              "    }\n",
              "\n",
              "    .dataframe tbody tr th {\n",
              "        vertical-align: top;\n",
              "    }\n",
              "\n",
              "    .dataframe thead th {\n",
              "        text-align: right;\n",
              "    }\n",
              "</style>\n",
              "<table border=\"1\" class=\"dataframe\">\n",
              "  <thead>\n",
              "    <tr style=\"text-align: right;\">\n",
              "      <th></th>\n",
              "      <th></th>\n",
              "      <th>data</th>\n",
              "      <th>usuario</th>\n",
              "      <th>apelido</th>\n",
              "      <th>texto</th>\n",
              "      <th>retweet</th>\n",
              "      <th>seguidores</th>\n",
              "      <th>idioma</th>\n",
              "      <th>sigla</th>\n",
              "      <th>latitude</th>\n",
              "      <th>longitude</th>\n",
              "      <th>hashtags</th>\n",
              "    </tr>\n",
              "    <tr>\n",
              "      <th>pais</th>\n",
              "      <th>lugar</th>\n",
              "      <th></th>\n",
              "      <th></th>\n",
              "      <th></th>\n",
              "      <th></th>\n",
              "      <th></th>\n",
              "      <th></th>\n",
              "      <th></th>\n",
              "      <th></th>\n",
              "      <th></th>\n",
              "      <th></th>\n",
              "      <th></th>\n",
              "    </tr>\n",
              "  </thead>\n",
              "  <tbody>\n",
              "    <tr>\n",
              "      <th rowspan=\"2\" valign=\"top\">Brazil</th>\n",
              "      <th>Érico Cardoso</th>\n",
              "      <td>1</td>\n",
              "      <td>1</td>\n",
              "      <td>1</td>\n",
              "      <td>1</td>\n",
              "      <td>1</td>\n",
              "      <td>1</td>\n",
              "      <td>1</td>\n",
              "      <td>1</td>\n",
              "      <td>1</td>\n",
              "      <td>1</td>\n",
              "      <td>1</td>\n",
              "    </tr>\n",
              "    <tr>\n",
              "      <th>Óbidos</th>\n",
              "      <td>2</td>\n",
              "      <td>2</td>\n",
              "      <td>2</td>\n",
              "      <td>2</td>\n",
              "      <td>2</td>\n",
              "      <td>2</td>\n",
              "      <td>2</td>\n",
              "      <td>2</td>\n",
              "      <td>0</td>\n",
              "      <td>0</td>\n",
              "      <td>2</td>\n",
              "    </tr>\n",
              "  </tbody>\n",
              "</table>\n",
              "</div>"
            ],
            "text/plain": [
              "                      data  usuario  apelido  ...  latitude  longitude  hashtags\n",
              "pais   lugar                                  ...                               \n",
              "Brazil Érico Cardoso     1        1        1  ...         1          1         1\n",
              "       Óbidos            2        2        2  ...         0          0         2\n",
              "\n",
              "[2 rows x 11 columns]"
            ]
          },
          "metadata": {
            "tags": []
          },
          "execution_count": 13
        }
      ]
    },
    {
      "cell_type": "markdown",
      "metadata": {
        "id": "LbzKnGKmkTw-"
      },
      "source": [
        "**Twitters por período**\n",
        "\n",
        "---"
      ]
    },
    {
      "cell_type": "code",
      "metadata": {
        "id": "kakgQL-ekXQZ"
      },
      "source": [
        "df_data = pd.DataFrame(raw_data)\n",
        "df_data['data'] = pd.to_datetime(df_data['data'])\n",
        "df_data.index = df_data['data']\n",
        "df_data.drop('data', inplace=True, axis=1)\n",
        "\n",
        "df_res = df_data.resample('M').count()\n",
        "\n",
        "df_res.reset_index(inplace=True)"
      ],
      "execution_count": null,
      "outputs": []
    },
    {
      "cell_type": "code",
      "metadata": {
        "id": "RZyM8ZnpIxbr",
        "outputId": "78853e9f-9b58-4f21-a20a-d492a3207b3d",
        "colab": {
          "base_uri": "https://localhost:8080/",
          "height": 258
        }
      },
      "source": [
        "df_res"
      ],
      "execution_count": null,
      "outputs": [
        {
          "output_type": "execute_result",
          "data": {
            "text/html": [
              "<div>\n",
              "<style scoped>\n",
              "    .dataframe tbody tr th:only-of-type {\n",
              "        vertical-align: middle;\n",
              "    }\n",
              "\n",
              "    .dataframe tbody tr th {\n",
              "        vertical-align: top;\n",
              "    }\n",
              "\n",
              "    .dataframe thead th {\n",
              "        text-align: right;\n",
              "    }\n",
              "</style>\n",
              "<table border=\"1\" class=\"dataframe\">\n",
              "  <thead>\n",
              "    <tr style=\"text-align: right;\">\n",
              "      <th></th>\n",
              "      <th>data</th>\n",
              "      <th>usuario</th>\n",
              "      <th>apelido</th>\n",
              "      <th>texto</th>\n",
              "      <th>retweet</th>\n",
              "      <th>seguidores</th>\n",
              "      <th>idioma</th>\n",
              "      <th>lugar</th>\n",
              "      <th>pais</th>\n",
              "      <th>sigla</th>\n",
              "      <th>latitude</th>\n",
              "      <th>longitude</th>\n",
              "      <th>hashtags</th>\n",
              "    </tr>\n",
              "  </thead>\n",
              "  <tbody>\n",
              "    <tr>\n",
              "      <th>0</th>\n",
              "      <td>2020-01-31</td>\n",
              "      <td>54388</td>\n",
              "      <td>54391</td>\n",
              "      <td>54391</td>\n",
              "      <td>54391</td>\n",
              "      <td>54391</td>\n",
              "      <td>54391</td>\n",
              "      <td>2177</td>\n",
              "      <td>2177</td>\n",
              "      <td>2177</td>\n",
              "      <td>80</td>\n",
              "      <td>80</td>\n",
              "      <td>54391</td>\n",
              "    </tr>\n",
              "    <tr>\n",
              "      <th>1</th>\n",
              "      <td>2020-02-29</td>\n",
              "      <td>109485</td>\n",
              "      <td>109489</td>\n",
              "      <td>109489</td>\n",
              "      <td>109489</td>\n",
              "      <td>109489</td>\n",
              "      <td>109489</td>\n",
              "      <td>4305</td>\n",
              "      <td>4305</td>\n",
              "      <td>4305</td>\n",
              "      <td>225</td>\n",
              "      <td>225</td>\n",
              "      <td>109489</td>\n",
              "    </tr>\n",
              "    <tr>\n",
              "      <th>2</th>\n",
              "      <td>2020-03-31</td>\n",
              "      <td>480112</td>\n",
              "      <td>480128</td>\n",
              "      <td>480128</td>\n",
              "      <td>480128</td>\n",
              "      <td>480128</td>\n",
              "      <td>480128</td>\n",
              "      <td>23487</td>\n",
              "      <td>23486</td>\n",
              "      <td>23484</td>\n",
              "      <td>2561</td>\n",
              "      <td>2561</td>\n",
              "      <td>480128</td>\n",
              "    </tr>\n",
              "    <tr>\n",
              "      <th>3</th>\n",
              "      <td>2020-04-30</td>\n",
              "      <td>469321</td>\n",
              "      <td>469334</td>\n",
              "      <td>469334</td>\n",
              "      <td>469334</td>\n",
              "      <td>469334</td>\n",
              "      <td>469334</td>\n",
              "      <td>21318</td>\n",
              "      <td>21317</td>\n",
              "      <td>21315</td>\n",
              "      <td>2516</td>\n",
              "      <td>2516</td>\n",
              "      <td>469334</td>\n",
              "    </tr>\n",
              "    <tr>\n",
              "      <th>4</th>\n",
              "      <td>2020-05-31</td>\n",
              "      <td>283219</td>\n",
              "      <td>283229</td>\n",
              "      <td>283229</td>\n",
              "      <td>283229</td>\n",
              "      <td>283229</td>\n",
              "      <td>283229</td>\n",
              "      <td>12780</td>\n",
              "      <td>12777</td>\n",
              "      <td>12777</td>\n",
              "      <td>1993</td>\n",
              "      <td>1993</td>\n",
              "      <td>283229</td>\n",
              "    </tr>\n",
              "    <tr>\n",
              "      <th>5</th>\n",
              "      <td>2020-06-30</td>\n",
              "      <td>257022</td>\n",
              "      <td>257027</td>\n",
              "      <td>257027</td>\n",
              "      <td>257027</td>\n",
              "      <td>257027</td>\n",
              "      <td>257027</td>\n",
              "      <td>10316</td>\n",
              "      <td>10316</td>\n",
              "      <td>10315</td>\n",
              "      <td>1345</td>\n",
              "      <td>1345</td>\n",
              "      <td>257027</td>\n",
              "    </tr>\n",
              "    <tr>\n",
              "      <th>6</th>\n",
              "      <td>2020-07-31</td>\n",
              "      <td>1</td>\n",
              "      <td>1</td>\n",
              "      <td>1</td>\n",
              "      <td>1</td>\n",
              "      <td>1</td>\n",
              "      <td>1</td>\n",
              "      <td>0</td>\n",
              "      <td>0</td>\n",
              "      <td>0</td>\n",
              "      <td>0</td>\n",
              "      <td>0</td>\n",
              "      <td>1</td>\n",
              "    </tr>\n",
              "  </tbody>\n",
              "</table>\n",
              "</div>"
            ],
            "text/plain": [
              "        data  usuario  apelido   texto  ...  sigla  latitude  longitude  hashtags\n",
              "0 2020-01-31    54388    54391   54391  ...   2177        80         80     54391\n",
              "1 2020-02-29   109485   109489  109489  ...   4305       225        225    109489\n",
              "2 2020-03-31   480112   480128  480128  ...  23484      2561       2561    480128\n",
              "3 2020-04-30   469321   469334  469334  ...  21315      2516       2516    469334\n",
              "4 2020-05-31   283219   283229  283229  ...  12777      1993       1993    283229\n",
              "5 2020-06-30   257022   257027  257027  ...  10315      1345       1345    257027\n",
              "6 2020-07-31        1        1       1  ...      0         0          0         1\n",
              "\n",
              "[7 rows x 13 columns]"
            ]
          },
          "metadata": {
            "tags": []
          },
          "execution_count": 39
        }
      ]
    },
    {
      "cell_type": "code",
      "metadata": {
        "id": "yUWk6fTgGQXE",
        "outputId": "fadb9f9e-c661-4c1c-cee9-45cc73411b58",
        "colab": {
          "base_uri": "https://localhost:8080/",
          "height": 394
        }
      },
      "source": [
        "#dt_result\n",
        "df_res.plot(kind='bar',x='data',y='texto')"
      ],
      "execution_count": null,
      "outputs": [
        {
          "output_type": "execute_result",
          "data": {
            "text/plain": [
              "<matplotlib.axes._subplots.AxesSubplot at 0x7f2160672160>"
            ]
          },
          "metadata": {
            "tags": []
          },
          "execution_count": 15
        },
        {
          "output_type": "display_data",
          "data": {
            "image/png": "[encoded data removed]",
            "text/plain": [
              "<Figure size 432x288 with 1 Axes>"
            ]
          },
          "metadata": {
            "tags": [],
            "needs_background": "light"
          }
        }
      ]
    },
    {
      "cell_type": "markdown",
      "metadata": {
        "id": "yEVGnh82KNzT"
      },
      "source": [
        "**Mineração de Perguntas**\n",
        "\n",
        "---\n",
        "\n",
        "\n",
        "\n",
        "\n"
      ]
    },
    {
      "cell_type": "markdown",
      "metadata": {
        "id": "XBjYV2SGHm8M"
      },
      "source": [
        "*Tamanho da coluna que precisa ser minerada*"
      ]
    },
    {
      "cell_type": "code",
      "metadata": {
        "id": "YvWw7SeuG2jK",
        "outputId": "9eb2c172-e90c-453f-885e-bc2c668c2123",
        "colab": {
          "base_uri": "https://localhost:8080/",
          "height": 34
        }
      },
      "source": [
        "valor = len(raw_data['texto'])\n",
        "valor"
      ],
      "execution_count": null,
      "outputs": [
        {
          "output_type": "execute_result",
          "data": {
            "text/plain": [
              "1653599"
            ]
          },
          "metadata": {
            "tags": []
          },
          "execution_count": 26
        }
      ]
    },
    {
      "cell_type": "markdown",
      "metadata": {
        "id": "pYNCgr2UHWxi"
      },
      "source": [
        "*Amostra de checagem para suspeita de linhas com erros*"
      ]
    },
    {
      "cell_type": "code",
      "metadata": {
        "id": "hkk4d1yyNRg-",
        "outputId": "04e358d4-3c7a-4ad4-afc5-c9c4ef465e7d",
        "colab": {
          "base_uri": "https://localhost:8080/",
          "height": 34
        }
      },
      "source": [
        "sentencas = sent_tokenize(raw_data['texto'][7159]) # this gives us a list of sentences\n",
        "sentencas"
      ],
      "execution_count": null,
      "outputs": [
        {
          "output_type": "execute_result",
          "data": {
            "text/plain": [
              "['@TeichNelson @minsaude @Medicina_CFM @Astro_Pontes Ajudar a enxergar coisas no raio-x, que indicaram algo como o vi… https://t.co/zPbNfdIHll']"
            ]
          },
          "metadata": {
            "tags": []
          },
          "execution_count": 17
        }
      ]
    },
    {
      "cell_type": "markdown",
      "metadata": {
        "id": "kOIEpRn_IcwL"
      },
      "source": [
        "*Mineração para Recuperação de Perguntas na Base*"
      ]
    },
    {
      "cell_type": "markdown",
      "metadata": {
        "id": "NswLI0ukOciw"
      },
      "source": [
        "Somente as perguntas"
      ]
    },
    {
      "cell_type": "code",
      "metadata": {
        "id": "fdbkAh3DQX5D"
      },
      "source": [
        "twitter = []\n",
        "perguntas = []\n",
        "erro = []\n",
        "for i in range(0,valor):\n",
        "  try:\n",
        "    twitter.append(sent_tokenize(raw_data['texto'][i]))   \n",
        "    for sentencas in twitter: \n",
        "      for row in sentencas:\n",
        "        palavras = word_tokenize(row.lower())\n",
        "        for palavra in palavras:\n",
        "          if palavra == '?':\n",
        "            perguntas.append([row,i]) \n",
        "            break\n",
        "    twitter.clear()\n",
        "  except:\n",
        "    erro.append(i)     \n",
        "\n",
        " "
      ],
      "execution_count": null,
      "outputs": []
    },
    {
      "cell_type": "markdown",
      "metadata": {
        "id": "-S9CCLpAOUhQ"
      },
      "source": [
        "Perguntas no twitter"
      ]
    },
    {
      "cell_type": "code",
      "metadata": {
        "id": "fu28va6-OLTo"
      },
      "source": [
        "twitter = []\n",
        "perguntas = []\n",
        "erro = []\n",
        "for i in range(0,valor):\n",
        "  try:\n",
        "    twitter.append(sent_tokenize(raw_data['texto'][i]))   \n",
        "    for sentencas in twitter: \n",
        "      flgPergunta = 0;\n",
        "      for row in sentencas:\n",
        "        palavras = word_tokenize(row.lower())\n",
        "        for palavra in palavras:\n",
        "          if palavra == '?':\n",
        "            flgPergunta = 1;\n",
        "            break\n",
        "    if flgPergunta == 1:\n",
        "      perguntas.append([raw_data['texto'][i],i])           \n",
        "    twitter.clear()\n",
        "  except:\n",
        "    erro.append(i)     \n",
        "\n",
        " "
      ],
      "execution_count": 27,
      "outputs": []
    },
    {
      "cell_type": "markdown",
      "metadata": {
        "id": "hRZJNThKIlFD"
      },
      "source": [
        "*Resumo após a Mineração*"
      ]
    },
    {
      "cell_type": "code",
      "metadata": {
        "id": "SZEQyq2A9akB",
        "outputId": "a0e5776b-79a2-40dc-cf50-12da4db63713",
        "colab": {
          "base_uri": "https://localhost:8080/",
          "height": 34
        }
      },
      "source": [
        "len(erro)\n",
        "#Quantidade de registros que quebrariam a mineração"
      ],
      "execution_count": null,
      "outputs": [
        {
          "output_type": "execute_result",
          "data": {
            "text/plain": [
              "0"
            ]
          },
          "metadata": {
            "tags": []
          },
          "execution_count": 23
        }
      ]
    },
    {
      "cell_type": "code",
      "metadata": {
        "id": "Nv75pvcW8C2K",
        "outputId": "56eab103-f575-4e2f-cff0-64a6165ba409",
        "colab": {
          "base_uri": "https://localhost:8080/",
          "height": 34
        }
      },
      "source": [
        "len(perguntas)\n",
        "#Quantidade de perguntas extraidas"
      ],
      "execution_count": null,
      "outputs": [
        {
          "output_type": "execute_result",
          "data": {
            "text/plain": [
              "98"
            ]
          },
          "metadata": {
            "tags": []
          },
          "execution_count": 24
        }
      ]
    },
    {
      "cell_type": "markdown",
      "metadata": {
        "id": "D4ouosG0J9Og"
      },
      "source": [
        "**DataSet gerado para a análise**"
      ]
    },
    {
      "cell_type": "code",
      "metadata": {
        "id": "k2m9LODfQMhX"
      },
      "source": [
        "df_DuvidasDB = pd.DataFrame(DuvidasDB, columns=['Perguntas','Indice'])\n",
        "# df_DuvidasDB.to_csv(r'drive/My Drive/twitter/duvidasdb.csv', index = False)\n",
        "# df_DuvidasDB.head(1)\n",
        "question = df_DuvidasDB.Perguntas[1]\n",
        "questions = \" \".join(twitter for twitter in df_DuvidasDB.Perguntas)"
      ],
      "execution_count": null,
      "outputs": []
    },
    {
      "cell_type": "code",
      "metadata": {
        "id": "WMZUrInHjnT4",
        "outputId": "be21c14d-180b-407e-d859-6952c7de4b84",
        "colab": {
          "base_uri": "https://localhost:8080/",
          "height": 198
        }
      },
      "source": [
        "wordcloud = WordCloud(background_color=\"white\").generate(questions)\n",
        "plt.figure()\n",
        "plt.imshow(wordcloud, interpolation='bilinear')\n",
        "plt.axis(\"off\")\n",
        "plt.show()"
      ],
      "execution_count": null,
      "outputs": [
        {
          "output_type": "display_data",
          "data": {
            "image/png": "[encoded data removed]",
            "text/plain": [
              "<Figure size 432x288 with 1 Axes>"
            ]
          },
          "metadata": {
            "tags": [],
            "needs_background": "light"
          }
        }
      ]
    },
    {
      "cell_type": "markdown",
      "metadata": {
        "id": "0tthsrR1I9eJ"
      },
      "source": [
        "*Rascunho geral*"
      ]
    },
    {
      "cell_type": "code",
      "metadata": {
        "id": "r7Ls1vHDjqZW"
      },
      "source": [
        "from nltk.corpus import stopwords\n",
        "from string import punctuation\n",
        "stopwords = set(stopwords.words('portuguese') + list(punctuation))\n",
        "stopwords\n",
        "#list(punctuation)\n",
        "\n",
        "palavras_sem_stopwords = [palavra for palavra in sentencas if palavra not in stopwords]\n",
        "palavras_sem_stopwords"
      ],
      "execution_count": null,
      "outputs": []
    }
  ]
}