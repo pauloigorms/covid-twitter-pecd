{
  "nbformat": 4,
  "nbformat_minor": 0,
  "metadata": {
    "colab": {
      "name": "Programacao-Ciencia-Dados.ipynb",
      "provenance": [],
      "collapsed_sections": [],
      "include_colab_link": true
    },
    "kernelspec": {
      "name": "python3",
      "display_name": "Python 3"
    }
  },
  "cells": [
    {
      "cell_type": "markdown",
      "metadata": {
        "id": "view-in-github",
        "colab_type": "text"
      },
      "source": [
        "<a href=\"https://colab.research.google.com/github/pauloigorms/covid-twitter-pecd/blob/main/Programacao_Ciencia_Dados.ipynb\" target=\"_parent\"><img src=\"https://colab.research.google.com/assets/colab-badge.svg\" alt=\"Open In Colab\"/></a>"
      ]
    },
    {
      "cell_type": "markdown",
      "metadata": {
        "id": "FW6he9b_DrDZ"
      },
      "source": [
        "# **PROGRAMAÇÃO PARA CIÊNCIA DE DADOS**\n",
        "\n",
        "**Equipe**: Cássio de Paula / Paulo Moraes [(website)](https://paulomoraes.me).\n",
        "\n",
        "**Objetivo**: analisar as mensagens\n",
        "trocadas por usuários do Twitter sobre a COVID-19, com o intuito de realizar uma análise\n",
        "exploratória e visualização de dados, passando também pelas etapas de limpeza e organização.\n",
        "Mais especificamente, as equipes devem explorar a análise nas perguntas (questões) dos usuários,\n",
        "pois arguimos que seja um tipo de mensagem apropriado para se compreender as principais dúvidas\n",
        "das pessoas sobre a atual pandemia.\n"
      ]
    },
    {
      "cell_type": "markdown",
      "metadata": {
        "id": "je-S-DmZmjzu"
      },
      "source": [
        "# **INFORMAÇÕES GERAIS**\n",
        "\n",
        "### **ARTEFATOS**\n",
        "\n",
        "\n",
        "*   Relatório Técnico - *Um notebook com o texto e o código-fonte apresentado na ferramenta Google COLAB*; \n",
        "*   Repositório no GitHub.\n",
        "\n",
        "\n",
        "### **ATIVIDADES**\n",
        "\n",
        "\n",
        "*   Importar base de dados;\n",
        "*   Tratar base de dados;\n",
        "*   Identificar as perguntas (questões) descritas nas mensagens;\n",
        "*   Salvar coleção com a identificação das perguntas em um novo dataset chamado \"DuvidasDB\".\n",
        "\n",
        "\n",
        "### **DO RESULTADO**\n",
        "\n",
        "\n",
        "1.   Devem apresentar um resumo (sumário) com as estatísticas dos dados originais, elas podem ser apresentadas através de tabelas e/ou gráficos;\n",
        "2.   Com a coleção resultando da identificação das perguntas a equipe deve apresentar as estatísticas sobre estes dados.\n",
        "\n",
        "\n",
        "### **TEMAS DISCUTIDOS**\n",
        "\n",
        "As equipes devem fazer uma análise sobre os temas que são debatidos nas perguntas dos postadas pelos usuários. Faça uma análise se as perguntas são relativas aos seguintes temas:\n",
        "\n",
        "*   Doença. Quando a pergunta é relativa à doença Deve-se observar que a doença é identificada por vários nomes. Exemplo: coronavírus, corona, COVID-19, etc;\n",
        "*   Medicamento. Quando a pergunta é sobre o uso de determinado medicamento no tratamento da doença;\n",
        "*   Organizações. Quando a pergunta é relativa a uma determinada entidade ou organização. Emissora de TV, Ministério da Saúde ou empresas são exemplos de organizações;\n",
        "*   Pessoas. Quando a pergunta é sobre determinada pessoa. Por exemplo, a pergunta pode ser sobre a atuação que determinado político ou pessoa famosa teve durante esse período de pandemia."
      ]
    },
    {
      "cell_type": "markdown",
      "metadata": {
        "id": "g29dcuadqXJx"
      },
      "source": [
        "# **VISÃO DOS DADOS**\n",
        "\n",
        "> **Visão Temporal** - Deve-se fazer uma análise temporal das perguntas que formam o dataset *DuvidasDB*. Pode-se considerar o intervalo temporal de dias, semanas ou meses. A escolha do intervalo de tempo ficará a cargo das equipes. Exemplos de análise temporal: a) houve um aumento no número de perguntas\n",
        "ao longo do tempo? b) houve uma mudança no perfil das perguntas ao longo do tempo?\n",
        "\n",
        "> **Visão Geográfica** - Deve-se fazer uma análise geográfica (espacial) das perguntas que formam o dataset *DuvidasDB*. Existem algumas colunas no dataset que trazem a informação das localizações como, por exemplo, o país, estado e cidade. Em alguns tuítes é possível ainda identificar as coordenadas geográficas\n",
        "de latitude e longitude. Exemplo de análise geográfica: a) os usuários de regiões diferentes fazem\n",
        "perguntas com diferentes focos? Por exemplo, será que os usuários de uma região perguntam mais\n",
        "sobre a doença ou sobre o tratamento? Essa análise ainda pode ser realizada em diversos níveis de\n",
        "área (cidade, estado ou região). Além de apresentar a distribuição das dúvidas dos usuários por\n",
        "região, a equipe deverá fazer uma análise dessa distribuição. Por exemplo, apresentar as razões\n",
        "(ou hipóteses) da ocorrência dessa distribuição.\n"
      ]
    },
    {
      "cell_type": "markdown",
      "metadata": {
        "id": "NFGZlZOM9Olf"
      },
      "source": [
        "# **INICIANDO O PROJETO**"
      ]
    },
    {
      "cell_type": "markdown",
      "metadata": {
        "id": "CmzwguY49akk"
      },
      "source": [
        "IMPORTANDO LIBS"
      ]
    },
    {
      "cell_type": "code",
      "metadata": {
        "id": "OtF4CpSYD5_Q",
        "outputId": "995305c3-5e73-45a6-a6d7-9400f7b53bc2",
        "colab": {
          "base_uri": "https://localhost:8080/",
          "height": 85
        }
      },
      "source": [
        "import pandas as pd\n",
        "import numpy as np\n",
        "import matplotlib.pyplot as plt\n",
        "from google.colab import drive\n",
        "import nltk as nltk\n",
        "nltk.download('punkt')\n",
        "nltk.download('stopwords')\n",
        "from nltk.tokenize import sent_tokenize, word_tokenize"
      ],
      "execution_count": null,
      "outputs": [
        {
          "output_type": "stream",
          "text": [
            "[nltk_data] Downloading package punkt to /root/nltk_data...\n",
            "[nltk_data]   Unzipping tokenizers/punkt.zip.\n",
            "[nltk_data] Downloading package stopwords to /root/nltk_data...\n",
            "[nltk_data]   Unzipping corpora/stopwords.zip.\n"
          ],
          "name": "stdout"
        }
      ]
    },
    {
      "cell_type": "markdown",
      "metadata": {
        "id": "aYFxuSq1qU5f"
      },
      "source": [
        "LEITURA DO ARQUIVO DE DADOS BASE"
      ]
    },
    {
      "cell_type": "code",
      "metadata": {
        "id": "aH5GF4F_9rqC",
        "outputId": "8d51fcb7-e0b5-47ad-bb3d-ccbf5269cb8d",
        "colab": {
          "base_uri": "https://localhost:8080/",
          "height": 34
        }
      },
      "source": [
        "drive.mount('/content/drive')\n",
        "load_data = pd.read_csv('drive/My Drive/twitter/dados-curso-completo.csv', sep= ',',skiprows=0, encoding='utf-8')\n",
        "raw_data = load_data.drop_duplicates(['texto'])"
      ],
      "execution_count": null,
      "outputs": [
        {
          "output_type": "stream",
          "text": [
            "Mounted at /content/drive\n"
          ],
          "name": "stdout"
        }
      ]
    },
    {
      "cell_type": "markdown",
      "metadata": {
        "id": "OQxP9ol8X6bz"
      },
      "source": [
        "#Funções"
      ]
    },
    {
      "cell_type": "markdown",
      "metadata": {
        "id": "ZZf-StuOYC0W"
      },
      "source": [
        "Função: **Cálcular Percente**"
      ]
    },
    {
      "cell_type": "code",
      "metadata": {
        "id": "kiYA2slHX82X"
      },
      "source": [
        "def calc_percente(value, total): \n",
        "    if not value and not total: \n",
        "       return print(\"value = 0% \\n total = 0%\") \n",
        "    elif value < 0 or total < 0: \n",
        "       return print(\"não aceita valor negativo!\") \n",
        "    else: \n",
        "       return print('{0:.2f}%'.format((value / total * 100)))"
      ],
      "execution_count": null,
      "outputs": []
    },
    {
      "cell_type": "markdown",
      "metadata": {
        "id": "OngP8Xv_k22G"
      },
      "source": [
        "Função: **Formatar String**"
      ]
    },
    {
      "cell_type": "code",
      "metadata": {
        "id": "lZ48Iorjk5tf"
      },
      "source": [
        "def spliting(text):\n",
        "  return text.split()"
      ],
      "execution_count": 85,
      "outputs": []
    },
    {
      "cell_type": "markdown",
      "metadata": {
        "id": "HknnQelaBHqx"
      },
      "source": [
        "#Estatísticas bases\n"
      ]
    },
    {
      "cell_type": "markdown",
      "metadata": {
        "id": "wTIaTc5vPjKM"
      },
      "source": [
        "**Exemplo da base de dados**\n",
        "\n",
        "---\n",
        "\n"
      ]
    },
    {
      "cell_type": "code",
      "metadata": {
        "id": "cXOV8qT8NoPA",
        "outputId": "1f537e5a-e505-4404-934c-ad214dc1663f",
        "colab": {
          "base_uri": "https://localhost:8080/",
          "height": 1000
        }
      },
      "source": [
        "raw_data.head(50)\n",
        "# nodp_data.info()"
      ],
      "execution_count": 123,
      "outputs": [
        {
          "output_type": "execute_result",
          "data": {
            "text/html": [
              "<div>\n",
              "<style scoped>\n",
              "    .dataframe tbody tr th:only-of-type {\n",
              "        vertical-align: middle;\n",
              "    }\n",
              "\n",
              "    .dataframe tbody tr th {\n",
              "        vertical-align: top;\n",
              "    }\n",
              "\n",
              "    .dataframe thead th {\n",
              "        text-align: right;\n",
              "    }\n",
              "</style>\n",
              "<table border=\"1\" class=\"dataframe\">\n",
              "  <thead>\n",
              "    <tr style=\"text-align: right;\">\n",
              "      <th></th>\n",
              "      <th>data</th>\n",
              "      <th>usuario</th>\n",
              "      <th>apelido</th>\n",
              "      <th>texto</th>\n",
              "      <th>retweet</th>\n",
              "      <th>seguidores</th>\n",
              "      <th>idioma</th>\n",
              "      <th>lugar</th>\n",
              "      <th>pais</th>\n",
              "      <th>sigla</th>\n",
              "      <th>latitude</th>\n",
              "      <th>longitude</th>\n",
              "      <th>hashtags</th>\n",
              "    </tr>\n",
              "    <tr>\n",
              "      <th>data</th>\n",
              "      <th></th>\n",
              "      <th></th>\n",
              "      <th></th>\n",
              "      <th></th>\n",
              "      <th></th>\n",
              "      <th></th>\n",
              "      <th></th>\n",
              "      <th></th>\n",
              "      <th></th>\n",
              "      <th></th>\n",
              "      <th></th>\n",
              "      <th></th>\n",
              "      <th></th>\n",
              "    </tr>\n",
              "  </thead>\n",
              "  <tbody>\n",
              "    <tr>\n",
              "      <th>2020-03-23 18:51:14</th>\n",
              "      <td>2020-03-23 18:51:14</td>\n",
              "      <td>Gaboardi</td>\n",
              "      <td>fraslee</td>\n",
              "      <td>@BolsonaroSP Cade o fundão deputado??? Congres...</td>\n",
              "      <td>0</td>\n",
              "      <td>138</td>\n",
              "      <td>pt</td>\n",
              "      <td>NaN</td>\n",
              "      <td>NaN</td>\n",
              "      <td>NaN</td>\n",
              "      <td>NaN</td>\n",
              "      <td>NaN</td>\n",
              "      <td>[]</td>\n",
              "    </tr>\n",
              "    <tr>\n",
              "      <th>2020-03-18 03:18:14</th>\n",
              "      <td>2020-03-18 03:18:14</td>\n",
              "      <td>Seu Zé da Farmácia</td>\n",
              "      <td>seuzedafarmacia</td>\n",
              "      <td>Em ação preventiva, o Governo do Estado suspen...</td>\n",
              "      <td>0</td>\n",
              "      <td>56</td>\n",
              "      <td>pt</td>\n",
              "      <td>NaN</td>\n",
              "      <td>NaN</td>\n",
              "      <td>NaN</td>\n",
              "      <td>NaN</td>\n",
              "      <td>NaN</td>\n",
              "      <td>[]</td>\n",
              "    </tr>\n",
              "    <tr>\n",
              "      <th>2020-03-29 12:09:27</th>\n",
              "      <td>2020-03-29 12:09:27</td>\n",
              "      <td>Marília Oliveira 🇧🇷</td>\n",
              "      <td>Marioliveira_gb</td>\n",
              "      <td>Incrível como os defensores do fim do distanci...</td>\n",
              "      <td>0</td>\n",
              "      <td>5</td>\n",
              "      <td>pt</td>\n",
              "      <td>NaN</td>\n",
              "      <td>NaN</td>\n",
              "      <td>NaN</td>\n",
              "      <td>NaN</td>\n",
              "      <td>NaN</td>\n",
              "      <td>[]</td>\n",
              "    </tr>\n",
              "    <tr>\n",
              "      <th>2020-04-01 21:11:07</th>\n",
              "      <td>2020-04-01 21:11:07</td>\n",
              "      <td>🚩</td>\n",
              "      <td>santosodeto</td>\n",
              "      <td>Fumaça de cigarro pode propagar coronavírus? h...</td>\n",
              "      <td>0</td>\n",
              "      <td>1885</td>\n",
              "      <td>pt</td>\n",
              "      <td>NaN</td>\n",
              "      <td>NaN</td>\n",
              "      <td>NaN</td>\n",
              "      <td>NaN</td>\n",
              "      <td>NaN</td>\n",
              "      <td>[]</td>\n",
              "    </tr>\n",
              "    <tr>\n",
              "      <th>2020-03-19 17:49:40</th>\n",
              "      <td>2020-03-19 17:49:40</td>\n",
              "      <td>Nova Impressão</td>\n",
              "      <td>novaimpressao_</td>\n",
              "      <td>🚨Todos juntos contra COVID-19💪\\n\\nSolicite seu...</td>\n",
              "      <td>0</td>\n",
              "      <td>124</td>\n",
              "      <td>pt</td>\n",
              "      <td>Brasília</td>\n",
              "      <td>Brazil</td>\n",
              "      <td>BR</td>\n",
              "      <td>-47.8778</td>\n",
              "      <td>-15.77691</td>\n",
              "      <td>[]</td>\n",
              "    </tr>\n",
              "    <tr>\n",
              "      <th>2020-05-08 11:21:36</th>\n",
              "      <td>2020-05-08 11:21:36</td>\n",
              "      <td>Marcel Silvano</td>\n",
              "      <td>marcelsilvano</td>\n",
              "      <td>Importantes avanços! A pesquisa brasileira, a ...</td>\n",
              "      <td>4</td>\n",
              "      <td>2769</td>\n",
              "      <td>pt</td>\n",
              "      <td>Macaé</td>\n",
              "      <td>Brazil</td>\n",
              "      <td>BR</td>\n",
              "      <td>NaN</td>\n",
              "      <td>NaN</td>\n",
              "      <td>[]</td>\n",
              "    </tr>\n",
              "    <tr>\n",
              "      <th>2020-03-10 21:27:40</th>\n",
              "      <td>2020-03-10 21:27:40</td>\n",
              "      <td>Teixeira Correia</td>\n",
              "      <td>LidadorNoticias</td>\n",
              "      <td>(Última hora) Volta ao Alentejo: Anulada por c...</td>\n",
              "      <td>0</td>\n",
              "      <td>39</td>\n",
              "      <td>pt</td>\n",
              "      <td>NaN</td>\n",
              "      <td>NaN</td>\n",
              "      <td>NaN</td>\n",
              "      <td>NaN</td>\n",
              "      <td>NaN</td>\n",
              "      <td>[]</td>\n",
              "    </tr>\n",
              "    <tr>\n",
              "      <th>2020-06-04 13:22:21</th>\n",
              "      <td>2020-06-04 13:22:21</td>\n",
              "      <td>Thiago Moraes</td>\n",
              "      <td>ThiagoMoraesPB</td>\n",
              "      <td>João Pessoa tem queda no isolamento social por...</td>\n",
              "      <td>1</td>\n",
              "      <td>3578</td>\n",
              "      <td>pt</td>\n",
              "      <td>NaN</td>\n",
              "      <td>NaN</td>\n",
              "      <td>NaN</td>\n",
              "      <td>NaN</td>\n",
              "      <td>NaN</td>\n",
              "      <td>[]</td>\n",
              "    </tr>\n",
              "    <tr>\n",
              "      <th>2020-05-07 21:32:12</th>\n",
              "      <td>2020-05-07 21:32:12</td>\n",
              "      <td>PT Brasil</td>\n",
              "      <td>ptbrasil</td>\n",
              "      <td>A #tvPT de hoje vai falar sobre a pandemia na ...</td>\n",
              "      <td>10</td>\n",
              "      <td>942696</td>\n",
              "      <td>pt</td>\n",
              "      <td>NaN</td>\n",
              "      <td>NaN</td>\n",
              "      <td>NaN</td>\n",
              "      <td>NaN</td>\n",
              "      <td>NaN</td>\n",
              "      <td>['tvPT']</td>\n",
              "    </tr>\n",
              "    <tr>\n",
              "      <th>2020-03-11 20:27:49</th>\n",
              "      <td>2020-03-11 20:27:49</td>\n",
              "      <td>Niquito ;)</td>\n",
              "      <td>NLazaroto</td>\n",
              "      <td>O Coronavirús causou uma pandemia e eu ainda n...</td>\n",
              "      <td>0</td>\n",
              "      <td>215</td>\n",
              "      <td>pt</td>\n",
              "      <td>NaN</td>\n",
              "      <td>NaN</td>\n",
              "      <td>NaN</td>\n",
              "      <td>NaN</td>\n",
              "      <td>NaN</td>\n",
              "      <td>[]</td>\n",
              "    </tr>\n",
              "    <tr>\n",
              "      <th>2020-02-14 19:07:57</th>\n",
              "      <td>2020-02-14 19:07:57</td>\n",
              "      <td>ENOS ALEXANDRE DA SILVA</td>\n",
              "      <td>DASILVAENOS</td>\n",
              "      <td>@_rolander @diatribestress @MichaelCBender @ma...</td>\n",
              "      <td>0</td>\n",
              "      <td>1396</td>\n",
              "      <td>pt</td>\n",
              "      <td>NaN</td>\n",
              "      <td>NaN</td>\n",
              "      <td>NaN</td>\n",
              "      <td>NaN</td>\n",
              "      <td>NaN</td>\n",
              "      <td>[]</td>\n",
              "    </tr>\n",
              "    <tr>\n",
              "      <th>2020-06-30 21:48:03</th>\n",
              "      <td>2020-06-30 21:48:03</td>\n",
              "      <td>MCP™</td>\n",
              "      <td>pedroohfranco</td>\n",
              "      <td>🏘️ *NESSA QUARENTENA EU JÁ:*🏘️ \\n\\n🦠 s\\n🦠 s\\n🦠...</td>\n",
              "      <td>0</td>\n",
              "      <td>522</td>\n",
              "      <td>pt</td>\n",
              "      <td>NaN</td>\n",
              "      <td>NaN</td>\n",
              "      <td>NaN</td>\n",
              "      <td>NaN</td>\n",
              "      <td>NaN</td>\n",
              "      <td>[]</td>\n",
              "    </tr>\n",
              "    <tr>\n",
              "      <th>2020-04-08 19:08:22</th>\n",
              "      <td>2020-04-08 19:08:22</td>\n",
              "      <td>UOL Notícias</td>\n",
              "      <td>UOLNoticias</td>\n",
              "      <td>Governo começa campanha oficial por cloroquina...</td>\n",
              "      <td>4</td>\n",
              "      <td>3351211</td>\n",
              "      <td>pt</td>\n",
              "      <td>NaN</td>\n",
              "      <td>NaN</td>\n",
              "      <td>NaN</td>\n",
              "      <td>NaN</td>\n",
              "      <td>NaN</td>\n",
              "      <td>[]</td>\n",
              "    </tr>\n",
              "    <tr>\n",
              "      <th>2020-06-29 14:10:10</th>\n",
              "      <td>2020-06-29 14:10:10</td>\n",
              "      <td>Lorena 🧚🏻‍♀️✨</td>\n",
              "      <td>oreocomnutella</td>\n",
              "      <td>Mano, 9 de julho, meu aniversário e ainda esta...</td>\n",
              "      <td>0</td>\n",
              "      <td>867</td>\n",
              "      <td>pt</td>\n",
              "      <td>NaN</td>\n",
              "      <td>NaN</td>\n",
              "      <td>NaN</td>\n",
              "      <td>NaN</td>\n",
              "      <td>NaN</td>\n",
              "      <td>[]</td>\n",
              "    </tr>\n",
              "    <tr>\n",
              "      <th>2020-04-08 23:55:48</th>\n",
              "      <td>2020-04-08 23:55:48</td>\n",
              "      <td>baby</td>\n",
              "      <td>babyroliveira</td>\n",
              "      <td>AMIGA CÊ TAVA BEBAÇA SUBINDO NA MESA VIRANDO G...</td>\n",
              "      <td>0</td>\n",
              "      <td>507</td>\n",
              "      <td>pt</td>\n",
              "      <td>Angra dos Reis</td>\n",
              "      <td>Brazil</td>\n",
              "      <td>BR</td>\n",
              "      <td>NaN</td>\n",
              "      <td>NaN</td>\n",
              "      <td>[]</td>\n",
              "    </tr>\n",
              "    <tr>\n",
              "      <th>2020-04-16 20:27:10</th>\n",
              "      <td>2020-04-16 20:27:10</td>\n",
              "      <td>🦦</td>\n",
              "      <td>heejinloonatic</td>\n",
              "      <td>pandemia, meu irmão trancado na escola até ago...</td>\n",
              "      <td>0</td>\n",
              "      <td>46</td>\n",
              "      <td>pt</td>\n",
              "      <td>NaN</td>\n",
              "      <td>NaN</td>\n",
              "      <td>NaN</td>\n",
              "      <td>NaN</td>\n",
              "      <td>NaN</td>\n",
              "      <td>[]</td>\n",
              "    </tr>\n",
              "    <tr>\n",
              "      <th>2020-03-12 09:45:09</th>\n",
              "      <td>2020-03-12 09:45:09</td>\n",
              "      <td>Caio Quero</td>\n",
              "      <td>caioquero</td>\n",
              "      <td>Os informais vão ser -mais uma vez - os que so...</td>\n",
              "      <td>952</td>\n",
              "      <td>3044</td>\n",
              "      <td>pt</td>\n",
              "      <td>NaN</td>\n",
              "      <td>NaN</td>\n",
              "      <td>NaN</td>\n",
              "      <td>NaN</td>\n",
              "      <td>NaN</td>\n",
              "      <td>[]</td>\n",
              "    </tr>\n",
              "    <tr>\n",
              "      <th>2020-03-23 14:40:19</th>\n",
              "      <td>2020-03-23 14:40:19</td>\n",
              "      <td>Francisco Borges</td>\n",
              "      <td>thescoborges</td>\n",
              "      <td>Na #Venezuela o presidente @NicolasMaduro assi...</td>\n",
              "      <td>0</td>\n",
              "      <td>1958</td>\n",
              "      <td>pt</td>\n",
              "      <td>NaN</td>\n",
              "      <td>NaN</td>\n",
              "      <td>NaN</td>\n",
              "      <td>NaN</td>\n",
              "      <td>NaN</td>\n",
              "      <td>['Venezuela']</td>\n",
              "    </tr>\n",
              "    <tr>\n",
              "      <th>2020-03-19 19:12:24</th>\n",
              "      <td>2020-03-19 19:12:24</td>\n",
              "      <td>Selma Maria</td>\n",
              "      <td>SelmaMa10589465</td>\n",
              "      <td>@o_antagonista Eu estou enganada ou vcs disser...</td>\n",
              "      <td>0</td>\n",
              "      <td>1</td>\n",
              "      <td>pt</td>\n",
              "      <td>NaN</td>\n",
              "      <td>NaN</td>\n",
              "      <td>NaN</td>\n",
              "      <td>NaN</td>\n",
              "      <td>NaN</td>\n",
              "      <td>[]</td>\n",
              "    </tr>\n",
              "    <tr>\n",
              "      <th>2020-03-30 17:45:39</th>\n",
              "      <td>2020-03-30 17:45:39</td>\n",
              "      <td>Jesus te ama</td>\n",
              "      <td>MonikeOliveira</td>\n",
              "      <td>Eu queria ver outros conteúdos aqui mas só se ...</td>\n",
              "      <td>0</td>\n",
              "      <td>147</td>\n",
              "      <td>pt</td>\n",
              "      <td>NaN</td>\n",
              "      <td>NaN</td>\n",
              "      <td>NaN</td>\n",
              "      <td>NaN</td>\n",
              "      <td>NaN</td>\n",
              "      <td>[]</td>\n",
              "    </tr>\n",
              "    <tr>\n",
              "      <th>2020-05-14 16:03:43</th>\n",
              "      <td>2020-05-14 16:03:43</td>\n",
              "      <td>Denny Melo</td>\n",
              "      <td>denny_melo</td>\n",
              "      <td>@pugamulher @oatila Minha querida, o único com...</td>\n",
              "      <td>0</td>\n",
              "      <td>300</td>\n",
              "      <td>pt</td>\n",
              "      <td>NaN</td>\n",
              "      <td>NaN</td>\n",
              "      <td>NaN</td>\n",
              "      <td>NaN</td>\n",
              "      <td>NaN</td>\n",
              "      <td>[]</td>\n",
              "    </tr>\n",
              "    <tr>\n",
              "      <th>2020-06-12 23:14:56</th>\n",
              "      <td>2020-06-12 23:14:56</td>\n",
              "      <td>olha a sequencia do dorme 🇧🇷 🏴</td>\n",
              "      <td>chaumdetaco</td>\n",
              "      <td>Resumo dessa minha quarentena https://t.co/4zg...</td>\n",
              "      <td>0</td>\n",
              "      <td>533</td>\n",
              "      <td>pt</td>\n",
              "      <td>NaN</td>\n",
              "      <td>NaN</td>\n",
              "      <td>NaN</td>\n",
              "      <td>NaN</td>\n",
              "      <td>NaN</td>\n",
              "      <td>[]</td>\n",
              "    </tr>\n",
              "    <tr>\n",
              "      <th>2020-05-22 16:39:01</th>\n",
              "      <td>2020-05-22 16:39:01</td>\n",
              "      <td>Diodoro Cirino 🐸 gab.ai/DiodoroCirino</td>\n",
              "      <td>DiodoroCirino</td>\n",
              "      <td>1/3) O Hospital Israelita Albert Einstein, em ...</td>\n",
              "      <td>0</td>\n",
              "      <td>542</td>\n",
              "      <td>pt</td>\n",
              "      <td>NaN</td>\n",
              "      <td>NaN</td>\n",
              "      <td>NaN</td>\n",
              "      <td>NaN</td>\n",
              "      <td>NaN</td>\n",
              "      <td>[]</td>\n",
              "    </tr>\n",
              "    <tr>\n",
              "      <th>2020-03-12 15:03:14</th>\n",
              "      <td>2020-03-12 15:03:14</td>\n",
              "      <td>Renan Botelho</td>\n",
              "      <td>BotelhoRenan</td>\n",
              "      <td>Bolsonaro cancelou a viagem a Mossoró, Wajngar...</td>\n",
              "      <td>0</td>\n",
              "      <td>295</td>\n",
              "      <td>pt</td>\n",
              "      <td>NaN</td>\n",
              "      <td>NaN</td>\n",
              "      <td>NaN</td>\n",
              "      <td>NaN</td>\n",
              "      <td>NaN</td>\n",
              "      <td>['Covid_19']</td>\n",
              "    </tr>\n",
              "    <tr>\n",
              "      <th>2020-05-12 13:45:26</th>\n",
              "      <td>2020-05-12 13:45:26</td>\n",
              "      <td>Durham Catholic PIC</td>\n",
              "      <td>DCPIC</td>\n",
              "      <td>RT @DurhamCatholic: If you’re feeling disconne...</td>\n",
              "      <td>15</td>\n",
              "      <td>622</td>\n",
              "      <td>en</td>\n",
              "      <td>NaN</td>\n",
              "      <td>NaN</td>\n",
              "      <td>NaN</td>\n",
              "      <td>NaN</td>\n",
              "      <td>NaN</td>\n",
              "      <td>['TechTuesday']</td>\n",
              "    </tr>\n",
              "    <tr>\n",
              "      <th>2020-04-05 23:02:06</th>\n",
              "      <td>2020-04-05 23:02:06</td>\n",
              "      <td>DNI SALTA</td>\n",
              "      <td>DNISALTA</td>\n",
              "      <td>Reporte diario #coronavirus #argentina. https:...</td>\n",
              "      <td>0</td>\n",
              "      <td>5968</td>\n",
              "      <td>es</td>\n",
              "      <td>NaN</td>\n",
              "      <td>NaN</td>\n",
              "      <td>NaN</td>\n",
              "      <td>NaN</td>\n",
              "      <td>NaN</td>\n",
              "      <td>['coronavirus', 'argentina']</td>\n",
              "    </tr>\n",
              "    <tr>\n",
              "      <th>2020-06-19 21:30:15</th>\n",
              "      <td>2020-06-19 21:30:15</td>\n",
              "      <td>AcidzAngel</td>\n",
              "      <td>AcidzAngel</td>\n",
              "      <td>Tô lendo um livro por semana na quarentena</td>\n",
              "      <td>0</td>\n",
              "      <td>1630</td>\n",
              "      <td>pt</td>\n",
              "      <td>NaN</td>\n",
              "      <td>NaN</td>\n",
              "      <td>NaN</td>\n",
              "      <td>NaN</td>\n",
              "      <td>NaN</td>\n",
              "      <td>[]</td>\n",
              "    </tr>\n",
              "    <tr>\n",
              "      <th>2020-03-11 19:32:15</th>\n",
              "      <td>2020-03-11 19:32:15</td>\n",
              "      <td>Isabelgothicechelon💘🇵🇹🇺🇲🇧🇷</td>\n",
              "      <td>Biogeo</td>\n",
              "      <td>@Davi_GeekCrente Pandemia evitar multidões</td>\n",
              "      <td>0</td>\n",
              "      <td>2555</td>\n",
              "      <td>pt</td>\n",
              "      <td>NaN</td>\n",
              "      <td>NaN</td>\n",
              "      <td>NaN</td>\n",
              "      <td>NaN</td>\n",
              "      <td>NaN</td>\n",
              "      <td>[]</td>\n",
              "    </tr>\n",
              "    <tr>\n",
              "      <th>2020-06-04 13:53:25</th>\n",
              "      <td>2020-06-04 13:53:25</td>\n",
              "      <td>Jão</td>\n",
              "      <td>jpguimaraess_</td>\n",
              "      <td>OS COMENTÁRIOS\\n\\nOs gados do Bozonaro estão f...</td>\n",
              "      <td>0</td>\n",
              "      <td>932</td>\n",
              "      <td>pt</td>\n",
              "      <td>NaN</td>\n",
              "      <td>NaN</td>\n",
              "      <td>NaN</td>\n",
              "      <td>NaN</td>\n",
              "      <td>NaN</td>\n",
              "      <td>[]</td>\n",
              "    </tr>\n",
              "    <tr>\n",
              "      <th>2020-05-21 19:50:50</th>\n",
              "      <td>2020-05-21 19:50:50</td>\n",
              "      <td>Silva</td>\n",
              "      <td>pdmsilvamusic</td>\n",
              "      <td>Imaginem que este ano não tinha Covid. Certame...</td>\n",
              "      <td>1</td>\n",
              "      <td>131</td>\n",
              "      <td>pt</td>\n",
              "      <td>NaN</td>\n",
              "      <td>NaN</td>\n",
              "      <td>NaN</td>\n",
              "      <td>NaN</td>\n",
              "      <td>NaN</td>\n",
              "      <td>[]</td>\n",
              "    </tr>\n",
              "    <tr>\n",
              "      <th>2020-05-26 12:34:48</th>\n",
              "      <td>2020-05-26 12:34:48</td>\n",
              "      <td>Alfredo Cunha 🏳️♻️🚴🏼‍♂️</td>\n",
              "      <td>alfredo_cunha</td>\n",
              "      <td>COVID19- Interessante como a Rússia começou de...</td>\n",
              "      <td>1</td>\n",
              "      <td>16595</td>\n",
              "      <td>pt</td>\n",
              "      <td>NaN</td>\n",
              "      <td>NaN</td>\n",
              "      <td>NaN</td>\n",
              "      <td>NaN</td>\n",
              "      <td>NaN</td>\n",
              "      <td>[]</td>\n",
              "    </tr>\n",
              "    <tr>\n",
              "      <th>2020-03-10 23:32:09</th>\n",
              "      <td>2020-03-10 23:32:09</td>\n",
              "      <td>julia • BLM ♡</td>\n",
              "      <td>payneissue</td>\n",
              "      <td>@ruivadooiapoque eu diria corona vírus</td>\n",
              "      <td>0</td>\n",
              "      <td>99</td>\n",
              "      <td>pt</td>\n",
              "      <td>NaN</td>\n",
              "      <td>NaN</td>\n",
              "      <td>NaN</td>\n",
              "      <td>NaN</td>\n",
              "      <td>NaN</td>\n",
              "      <td>[]</td>\n",
              "    </tr>\n",
              "    <tr>\n",
              "      <th>2020-03-11 19:29:09</th>\n",
              "      <td>2020-03-11 19:29:09</td>\n",
              "      <td>Echo Boomer</td>\n",
              "      <td>echoboomerpt</td>\n",
              "      <td>COVID-19. Este site diz-nos quais os eventos a...</td>\n",
              "      <td>0</td>\n",
              "      <td>553</td>\n",
              "      <td>pt</td>\n",
              "      <td>NaN</td>\n",
              "      <td>NaN</td>\n",
              "      <td>NaN</td>\n",
              "      <td>NaN</td>\n",
              "      <td>NaN</td>\n",
              "      <td>[]</td>\n",
              "    </tr>\n",
              "    <tr>\n",
              "      <th>2020-05-24 20:04:55</th>\n",
              "      <td>2020-05-24 20:04:55</td>\n",
              "      <td>Druida Francês</td>\n",
              "      <td>Madruga_17</td>\n",
              "      <td>Covardia do caralho o q fizeram com a Nise. Ac...</td>\n",
              "      <td>1</td>\n",
              "      <td>531</td>\n",
              "      <td>pt</td>\n",
              "      <td>NaN</td>\n",
              "      <td>NaN</td>\n",
              "      <td>NaN</td>\n",
              "      <td>NaN</td>\n",
              "      <td>NaN</td>\n",
              "      <td>[]</td>\n",
              "    </tr>\n",
              "    <tr>\n",
              "      <th>2020-04-02 12:55:32</th>\n",
              "      <td>2020-04-02 12:55:32</td>\n",
              "      <td>Alessandro Macedo</td>\n",
              "      <td>acmacedopvh</td>\n",
              "      <td>@jcsnGuarulhos Notícia requentada de outubro d...</td>\n",
              "      <td>0</td>\n",
              "      <td>237</td>\n",
              "      <td>pt</td>\n",
              "      <td>NaN</td>\n",
              "      <td>NaN</td>\n",
              "      <td>NaN</td>\n",
              "      <td>NaN</td>\n",
              "      <td>NaN</td>\n",
              "      <td>[]</td>\n",
              "    </tr>\n",
              "    <tr>\n",
              "      <th>2020-04-02 02:12:24</th>\n",
              "      <td>2020-04-02 02:12:24</td>\n",
              "      <td>Marcelo Oioli De Campos</td>\n",
              "      <td>marcelooioli</td>\n",
              "      <td>@helocruz Helô, qual sua opinião sobre medo qu...</td>\n",
              "      <td>0</td>\n",
              "      <td>112</td>\n",
              "      <td>pt</td>\n",
              "      <td>NaN</td>\n",
              "      <td>NaN</td>\n",
              "      <td>NaN</td>\n",
              "      <td>NaN</td>\n",
              "      <td>NaN</td>\n",
              "      <td>[]</td>\n",
              "    </tr>\n",
              "    <tr>\n",
              "      <th>2020-05-18 21:45:16</th>\n",
              "      <td>2020-05-18 21:45:16</td>\n",
              "      <td>LS Westbrook</td>\n",
              "      <td>W4AO</td>\n",
              "      <td>RT @ddale8: Trump continues that it's fine if ...</td>\n",
              "      <td>1368</td>\n",
              "      <td>90</td>\n",
              "      <td>en</td>\n",
              "      <td>NaN</td>\n",
              "      <td>NaN</td>\n",
              "      <td>NaN</td>\n",
              "      <td>NaN</td>\n",
              "      <td>NaN</td>\n",
              "      <td>[]</td>\n",
              "    </tr>\n",
              "    <tr>\n",
              "      <th>2020-06-17 20:02:25</th>\n",
              "      <td>2020-06-17 20:02:25</td>\n",
              "      <td>My name is Cesar, Caio Cesar</td>\n",
              "      <td>Caioca_7</td>\n",
              "      <td>@anandanquisentr Mas tipo, é meio óbvio isso s...</td>\n",
              "      <td>0</td>\n",
              "      <td>119</td>\n",
              "      <td>pt</td>\n",
              "      <td>NaN</td>\n",
              "      <td>NaN</td>\n",
              "      <td>NaN</td>\n",
              "      <td>NaN</td>\n",
              "      <td>NaN</td>\n",
              "      <td>[]</td>\n",
              "    </tr>\n",
              "    <tr>\n",
              "      <th>2020-06-25 11:09:19</th>\n",
              "      <td>2020-06-25 11:09:19</td>\n",
              "      <td>Andreia Peraro</td>\n",
              "      <td>AndreiaPeraro</td>\n",
              "      <td>@ipratesMD @dr_pampers Será que corremos o ris...</td>\n",
              "      <td>0</td>\n",
              "      <td>86</td>\n",
              "      <td>pt</td>\n",
              "      <td>NaN</td>\n",
              "      <td>NaN</td>\n",
              "      <td>NaN</td>\n",
              "      <td>NaN</td>\n",
              "      <td>NaN</td>\n",
              "      <td>[]</td>\n",
              "    </tr>\n",
              "    <tr>\n",
              "      <th>2020-03-24 23:25:33</th>\n",
              "      <td>2020-03-24 23:25:33</td>\n",
              "      <td>Pretinha 🌙</td>\n",
              "      <td>mavicmend</td>\n",
              "      <td>2020 aprendi muita coisa, e ainda estamos em m...</td>\n",
              "      <td>0</td>\n",
              "      <td>18749</td>\n",
              "      <td>pt</td>\n",
              "      <td>NaN</td>\n",
              "      <td>NaN</td>\n",
              "      <td>NaN</td>\n",
              "      <td>NaN</td>\n",
              "      <td>NaN</td>\n",
              "      <td>[]</td>\n",
              "    </tr>\n",
              "    <tr>\n",
              "      <th>2020-05-29 14:20:48</th>\n",
              "      <td>2020-05-29 14:20:48</td>\n",
              "      <td>ℭ jess 9¾</td>\n",
              "      <td>lmjdthrelic</td>\n",
              "      <td>@LaurenJauregui YESSS LAUREN</td>\n",
              "      <td>0</td>\n",
              "      <td>1609</td>\n",
              "      <td>en</td>\n",
              "      <td>NaN</td>\n",
              "      <td>NaN</td>\n",
              "      <td>NaN</td>\n",
              "      <td>NaN</td>\n",
              "      <td>NaN</td>\n",
              "      <td>[]</td>\n",
              "    </tr>\n",
              "    <tr>\n",
              "      <th>2020-06-30 05:10:10</th>\n",
              "      <td>2020-06-30 05:10:10</td>\n",
              "      <td>neminem | Fora Fascistas! Fora Bozo!</td>\n",
              "      <td>brianna_freyja</td>\n",
              "      <td>Trabalhadores em saúde acionam STF contra reco...</td>\n",
              "      <td>0</td>\n",
              "      <td>266</td>\n",
              "      <td>pt</td>\n",
              "      <td>NaN</td>\n",
              "      <td>NaN</td>\n",
              "      <td>NaN</td>\n",
              "      <td>NaN</td>\n",
              "      <td>NaN</td>\n",
              "      <td>[]</td>\n",
              "    </tr>\n",
              "    <tr>\n",
              "      <th>2020-06-30 23:20:41</th>\n",
              "      <td>2020-06-30 23:20:41</td>\n",
              "      <td>justine</td>\n",
              "      <td>kimfuckingberly</td>\n",
              "      <td>Jaja tem live de mobile kkkkk essa sou eu na q...</td>\n",
              "      <td>0</td>\n",
              "      <td>54</td>\n",
              "      <td>pt</td>\n",
              "      <td>NaN</td>\n",
              "      <td>NaN</td>\n",
              "      <td>NaN</td>\n",
              "      <td>NaN</td>\n",
              "      <td>NaN</td>\n",
              "      <td>[]</td>\n",
              "    </tr>\n",
              "    <tr>\n",
              "      <th>2020-04-08 18:55:44</th>\n",
              "      <td>2020-04-08 18:55:44</td>\n",
              "      <td>Marco Red Devil 🔰🇾🇪</td>\n",
              "      <td>MarcoRedDevil</td>\n",
              "      <td>#BolsonaroEstavaCerto Enfim... finalmente! Más...</td>\n",
              "      <td>0</td>\n",
              "      <td>5896</td>\n",
              "      <td>pt</td>\n",
              "      <td>NaN</td>\n",
              "      <td>NaN</td>\n",
              "      <td>NaN</td>\n",
              "      <td>NaN</td>\n",
              "      <td>NaN</td>\n",
              "      <td>['BolsonaroEstavaCerto', 'Quarentena', 'Brasil']</td>\n",
              "    </tr>\n",
              "    <tr>\n",
              "      <th>2020-03-05 17:36:42</th>\n",
              "      <td>2020-03-05 17:36:42</td>\n",
              "      <td>O Antagonista</td>\n",
              "      <td>o_antagonista</td>\n",
              "      <td>O número de mortos pela Covid-19 na Itália sub...</td>\n",
              "      <td>8</td>\n",
              "      <td>1255136</td>\n",
              "      <td>pt</td>\n",
              "      <td>NaN</td>\n",
              "      <td>NaN</td>\n",
              "      <td>NaN</td>\n",
              "      <td>NaN</td>\n",
              "      <td>NaN</td>\n",
              "      <td>[]</td>\n",
              "    </tr>\n",
              "    <tr>\n",
              "      <th>2020-04-06 15:44:36</th>\n",
              "      <td>2020-04-06 15:44:36</td>\n",
              "      <td>Diorgenes Pandini</td>\n",
              "      <td>diorpandini</td>\n",
              "      <td>Prioridade ?!\\n\\n #COVID19 #floripa #isolament...</td>\n",
              "      <td>0</td>\n",
              "      <td>219</td>\n",
              "      <td>pt</td>\n",
              "      <td>NaN</td>\n",
              "      <td>NaN</td>\n",
              "      <td>NaN</td>\n",
              "      <td>NaN</td>\n",
              "      <td>NaN</td>\n",
              "      <td>['COVID19', 'floripa', 'isolamento']</td>\n",
              "    </tr>\n",
              "    <tr>\n",
              "      <th>2020-04-15 23:56:17</th>\n",
              "      <td>2020-04-15 23:56:17</td>\n",
              "      <td>Domi</td>\n",
              "      <td>dominike_13</td>\n",
              "      <td>Hoje foi tão maravilhoso sair de casa, não agu...</td>\n",
              "      <td>0</td>\n",
              "      <td>167</td>\n",
              "      <td>pt</td>\n",
              "      <td>NaN</td>\n",
              "      <td>NaN</td>\n",
              "      <td>NaN</td>\n",
              "      <td>NaN</td>\n",
              "      <td>NaN</td>\n",
              "      <td>[]</td>\n",
              "    </tr>\n",
              "    <tr>\n",
              "      <th>2020-03-27 13:40:48</th>\n",
              "      <td>2020-03-27 13:40:48</td>\n",
              "      <td>Roney Testa</td>\n",
              "      <td>RoneyTesta</td>\n",
              "      <td>@Ramon06374915 @pauloleitebh @parreraCovil Loc...</td>\n",
              "      <td>0</td>\n",
              "      <td>215</td>\n",
              "      <td>pt</td>\n",
              "      <td>NaN</td>\n",
              "      <td>NaN</td>\n",
              "      <td>NaN</td>\n",
              "      <td>NaN</td>\n",
              "      <td>NaN</td>\n",
              "      <td>[]</td>\n",
              "    </tr>\n",
              "    <tr>\n",
              "      <th>2020-04-05 01:51:18</th>\n",
              "      <td>2020-04-05 01:51:18</td>\n",
              "      <td>Micheli Silva</td>\n",
              "      <td>Micheli_Ssilva</td>\n",
              "      <td>Especial coronavírus e África https://t.co/Js8...</td>\n",
              "      <td>0</td>\n",
              "      <td>75</td>\n",
              "      <td>pt</td>\n",
              "      <td>NaN</td>\n",
              "      <td>NaN</td>\n",
              "      <td>NaN</td>\n",
              "      <td>NaN</td>\n",
              "      <td>NaN</td>\n",
              "      <td>[]</td>\n",
              "    </tr>\n",
              "    <tr>\n",
              "      <th>2020-04-01 21:22:05</th>\n",
              "      <td>2020-04-01 21:22:05</td>\n",
              "      <td>Just for one day!...</td>\n",
              "      <td>rodrigopld</td>\n",
              "      <td>@Alexfrd A hidroxicloroquina deve ser a unica ...</td>\n",
              "      <td>0</td>\n",
              "      <td>74</td>\n",
              "      <td>pt</td>\n",
              "      <td>NaN</td>\n",
              "      <td>NaN</td>\n",
              "      <td>NaN</td>\n",
              "      <td>NaN</td>\n",
              "      <td>NaN</td>\n",
              "      <td>[]</td>\n",
              "    </tr>\n",
              "  </tbody>\n",
              "</table>\n",
              "</div>"
            ],
            "text/plain": [
              "                                   data  ...                                          hashtags\n",
              "data                                     ...                                                  \n",
              "2020-03-23 18:51:14 2020-03-23 18:51:14  ...                                                []\n",
              "2020-03-18 03:18:14 2020-03-18 03:18:14  ...                                                []\n",
              "2020-03-29 12:09:27 2020-03-29 12:09:27  ...                                                []\n",
              "2020-04-01 21:11:07 2020-04-01 21:11:07  ...                                                []\n",
              "2020-03-19 17:49:40 2020-03-19 17:49:40  ...                                                []\n",
              "2020-05-08 11:21:36 2020-05-08 11:21:36  ...                                                []\n",
              "2020-03-10 21:27:40 2020-03-10 21:27:40  ...                                                []\n",
              "2020-06-04 13:22:21 2020-06-04 13:22:21  ...                                                []\n",
              "2020-05-07 21:32:12 2020-05-07 21:32:12  ...                                          ['tvPT']\n",
              "2020-03-11 20:27:49 2020-03-11 20:27:49  ...                                                []\n",
              "2020-02-14 19:07:57 2020-02-14 19:07:57  ...                                                []\n",
              "2020-06-30 21:48:03 2020-06-30 21:48:03  ...                                                []\n",
              "2020-04-08 19:08:22 2020-04-08 19:08:22  ...                                                []\n",
              "2020-06-29 14:10:10 2020-06-29 14:10:10  ...                                                []\n",
              "2020-04-08 23:55:48 2020-04-08 23:55:48  ...                                                []\n",
              "2020-04-16 20:27:10 2020-04-16 20:27:10  ...                                                []\n",
              "2020-03-12 09:45:09 2020-03-12 09:45:09  ...                                                []\n",
              "2020-03-23 14:40:19 2020-03-23 14:40:19  ...                                     ['Venezuela']\n",
              "2020-03-19 19:12:24 2020-03-19 19:12:24  ...                                                []\n",
              "2020-03-30 17:45:39 2020-03-30 17:45:39  ...                                                []\n",
              "2020-05-14 16:03:43 2020-05-14 16:03:43  ...                                                []\n",
              "2020-06-12 23:14:56 2020-06-12 23:14:56  ...                                                []\n",
              "2020-05-22 16:39:01 2020-05-22 16:39:01  ...                                                []\n",
              "2020-03-12 15:03:14 2020-03-12 15:03:14  ...                                      ['Covid_19']\n",
              "2020-05-12 13:45:26 2020-05-12 13:45:26  ...                                   ['TechTuesday']\n",
              "2020-04-05 23:02:06 2020-04-05 23:02:06  ...                      ['coronavirus', 'argentina']\n",
              "2020-06-19 21:30:15 2020-06-19 21:30:15  ...                                                []\n",
              "2020-03-11 19:32:15 2020-03-11 19:32:15  ...                                                []\n",
              "2020-06-04 13:53:25 2020-06-04 13:53:25  ...                                                []\n",
              "2020-05-21 19:50:50 2020-05-21 19:50:50  ...                                                []\n",
              "2020-05-26 12:34:48 2020-05-26 12:34:48  ...                                                []\n",
              "2020-03-10 23:32:09 2020-03-10 23:32:09  ...                                                []\n",
              "2020-03-11 19:29:09 2020-03-11 19:29:09  ...                                                []\n",
              "2020-05-24 20:04:55 2020-05-24 20:04:55  ...                                                []\n",
              "2020-04-02 12:55:32 2020-04-02 12:55:32  ...                                                []\n",
              "2020-04-02 02:12:24 2020-04-02 02:12:24  ...                                                []\n",
              "2020-05-18 21:45:16 2020-05-18 21:45:16  ...                                                []\n",
              "2020-06-17 20:02:25 2020-06-17 20:02:25  ...                                                []\n",
              "2020-06-25 11:09:19 2020-06-25 11:09:19  ...                                                []\n",
              "2020-03-24 23:25:33 2020-03-24 23:25:33  ...                                                []\n",
              "2020-05-29 14:20:48 2020-05-29 14:20:48  ...                                                []\n",
              "2020-06-30 05:10:10 2020-06-30 05:10:10  ...                                                []\n",
              "2020-06-30 23:20:41 2020-06-30 23:20:41  ...                                                []\n",
              "2020-04-08 18:55:44 2020-04-08 18:55:44  ...  ['BolsonaroEstavaCerto', 'Quarentena', 'Brasil']\n",
              "2020-03-05 17:36:42 2020-03-05 17:36:42  ...                                                []\n",
              "2020-04-06 15:44:36 2020-04-06 15:44:36  ...              ['COVID19', 'floripa', 'isolamento']\n",
              "2020-04-15 23:56:17 2020-04-15 23:56:17  ...                                                []\n",
              "2020-03-27 13:40:48 2020-03-27 13:40:48  ...                                                []\n",
              "2020-04-05 01:51:18 2020-04-05 01:51:18  ...                                                []\n",
              "2020-04-01 21:22:05 2020-04-01 21:22:05  ...                                                []\n",
              "\n",
              "[50 rows x 13 columns]"
            ]
          },
          "metadata": {
            "tags": []
          },
          "execution_count": 123
        }
      ]
    },
    {
      "cell_type": "markdown",
      "metadata": {
        "id": "q9Pp_9VLUNor"
      },
      "source": [
        "**Tamanha da base (com e sem dados duplicados)**\n",
        "\n",
        "---"
      ]
    },
    {
      "cell_type": "code",
      "metadata": {
        "id": "tIAhl5fCURwm",
        "outputId": "df46fce6-be60-4ab3-e445-8b3fc72e2161",
        "colab": {
          "base_uri": "https://localhost:8080/",
          "height": 34
        }
      },
      "source": [
        "# Total com duplicados: 1.658.825\n",
        "# Total sem duplicados = 1.653.599\n",
        "raw_data.texto.count()"
      ],
      "execution_count": null,
      "outputs": [
        {
          "output_type": "execute_result",
          "data": {
            "text/plain": [
              "1653599"
            ]
          },
          "metadata": {
            "tags": []
          },
          "execution_count": 6
        }
      ]
    },
    {
      "cell_type": "markdown",
      "metadata": {
        "id": "7eJHktt7UWiQ"
      },
      "source": [
        "**Twitters por região**\n",
        "\n",
        "---"
      ]
    },
    {
      "cell_type": "code",
      "metadata": {
        "id": "VLU9rgrjUr3F",
        "outputId": "ae2a3b57-91b4-45a6-f390-42a187f96e90",
        "colab": {
          "base_uri": "https://localhost:8080/",
          "height": 34
        }
      },
      "source": [
        "# Total de twitters com localização = 74.383\n",
        "raw_data['lugar'].count()"
      ],
      "execution_count": 120,
      "outputs": [
        {
          "output_type": "execute_result",
          "data": {
            "text/plain": [
              "74383"
            ]
          },
          "metadata": {
            "tags": []
          },
          "execution_count": 120
        }
      ]
    },
    {
      "cell_type": "code",
      "metadata": {
        "id": "wlaTwpguaxdC",
        "outputId": "c1096480-b81a-48ba-d44e-c10943e877a2",
        "colab": {
          "base_uri": "https://localhost:8080/",
          "height": 34
        }
      },
      "source": [
        "# Percentual em relação à base = 4.50%\n",
        "calc_percente(value=raw_data['lugar'].count(), total=raw_data.texto.count())"
      ],
      "execution_count": null,
      "outputs": [
        {
          "output_type": "stream",
          "text": [
            "4.50%\n"
          ],
          "name": "stdout"
        }
      ]
    },
    {
      "cell_type": "code",
      "metadata": {
        "id": "ITGCurQyaGu1",
        "outputId": "f956d0e1-13d2-4442-b378-77f0e2337a5d",
        "colab": {
          "base_uri": "https://localhost:8080/",
          "height": 111
        }
      },
      "source": [
        "# Total por país\n",
        "filter = raw_data[raw_data.pais == 'Brazil'].groupby('pais').count()\n",
        "filter.head()\n",
        "# Total por estado\n",
        "# raw_data[raw_data.pais == 'Brazil'].groupby(['pais', 'lugar']).count() #.head(2)"
      ],
      "execution_count": 121,
      "outputs": [
        {
          "output_type": "execute_result",
          "data": {
            "text/html": [
              "<div>\n",
              "<style scoped>\n",
              "    .dataframe tbody tr th:only-of-type {\n",
              "        vertical-align: middle;\n",
              "    }\n",
              "\n",
              "    .dataframe tbody tr th {\n",
              "        vertical-align: top;\n",
              "    }\n",
              "\n",
              "    .dataframe thead th {\n",
              "        text-align: right;\n",
              "    }\n",
              "</style>\n",
              "<table border=\"1\" class=\"dataframe\">\n",
              "  <thead>\n",
              "    <tr style=\"text-align: right;\">\n",
              "      <th></th>\n",
              "      <th>data</th>\n",
              "      <th>usuario</th>\n",
              "      <th>apelido</th>\n",
              "      <th>texto</th>\n",
              "      <th>retweet</th>\n",
              "      <th>seguidores</th>\n",
              "      <th>idioma</th>\n",
              "      <th>lugar</th>\n",
              "      <th>sigla</th>\n",
              "      <th>latitude</th>\n",
              "      <th>longitude</th>\n",
              "      <th>hashtags</th>\n",
              "    </tr>\n",
              "    <tr>\n",
              "      <th>pais</th>\n",
              "      <th></th>\n",
              "      <th></th>\n",
              "      <th></th>\n",
              "      <th></th>\n",
              "      <th></th>\n",
              "      <th></th>\n",
              "      <th></th>\n",
              "      <th></th>\n",
              "      <th></th>\n",
              "      <th></th>\n",
              "      <th></th>\n",
              "      <th></th>\n",
              "    </tr>\n",
              "  </thead>\n",
              "  <tbody>\n",
              "    <tr>\n",
              "      <th>Brazil</th>\n",
              "      <td>67034</td>\n",
              "      <td>67033</td>\n",
              "      <td>67034</td>\n",
              "      <td>67034</td>\n",
              "      <td>67034</td>\n",
              "      <td>67034</td>\n",
              "      <td>67034</td>\n",
              "      <td>67034</td>\n",
              "      <td>67034</td>\n",
              "      <td>7675</td>\n",
              "      <td>7675</td>\n",
              "      <td>67034</td>\n",
              "    </tr>\n",
              "  </tbody>\n",
              "</table>\n",
              "</div>"
            ],
            "text/plain": [
              "         data  usuario  apelido  texto  ...  sigla  latitude  longitude  hashtags\n",
              "pais                                    ...                                      \n",
              "Brazil  67034    67033    67034  67034  ...  67034      7675       7675     67034\n",
              "\n",
              "[1 rows x 12 columns]"
            ]
          },
          "metadata": {
            "tags": []
          },
          "execution_count": 121
        }
      ]
    },
    {
      "cell_type": "markdown",
      "metadata": {
        "id": "LbzKnGKmkTw-"
      },
      "source": [
        "**Twitters por período**\n",
        "\n",
        "---"
      ]
    },
    {
      "cell_type": "code",
      "metadata": {
        "id": "kakgQL-ekXQZ",
        "outputId": "48ff8063-6346-425a-ea92-cdebaf27b12c",
        "colab": {
          "base_uri": "https://localhost:8080/",
          "height": 297
        }
      },
      "source": [
        "df_data = pd.DataFrame(raw_data)\n",
        "df_data['data'] = pd.to_datetime(df_data['data'])\n",
        "df_data.index = df_data['data']\n",
        "df_data.resample('M').count()"
      ],
      "execution_count": 125,
      "outputs": [
        {
          "output_type": "execute_result",
          "data": {
            "text/html": [
              "<div>\n",
              "<style scoped>\n",
              "    .dataframe tbody tr th:only-of-type {\n",
              "        vertical-align: middle;\n",
              "    }\n",
              "\n",
              "    .dataframe tbody tr th {\n",
              "        vertical-align: top;\n",
              "    }\n",
              "\n",
              "    .dataframe thead th {\n",
              "        text-align: right;\n",
              "    }\n",
              "</style>\n",
              "<table border=\"1\" class=\"dataframe\">\n",
              "  <thead>\n",
              "    <tr style=\"text-align: right;\">\n",
              "      <th></th>\n",
              "      <th>data</th>\n",
              "      <th>usuario</th>\n",
              "      <th>apelido</th>\n",
              "      <th>texto</th>\n",
              "      <th>retweet</th>\n",
              "      <th>seguidores</th>\n",
              "      <th>idioma</th>\n",
              "      <th>lugar</th>\n",
              "      <th>pais</th>\n",
              "      <th>sigla</th>\n",
              "      <th>latitude</th>\n",
              "      <th>longitude</th>\n",
              "      <th>hashtags</th>\n",
              "    </tr>\n",
              "    <tr>\n",
              "      <th>data</th>\n",
              "      <th></th>\n",
              "      <th></th>\n",
              "      <th></th>\n",
              "      <th></th>\n",
              "      <th></th>\n",
              "      <th></th>\n",
              "      <th></th>\n",
              "      <th></th>\n",
              "      <th></th>\n",
              "      <th></th>\n",
              "      <th></th>\n",
              "      <th></th>\n",
              "      <th></th>\n",
              "    </tr>\n",
              "  </thead>\n",
              "  <tbody>\n",
              "    <tr>\n",
              "      <th>2020-01-31</th>\n",
              "      <td>54391</td>\n",
              "      <td>54388</td>\n",
              "      <td>54391</td>\n",
              "      <td>54391</td>\n",
              "      <td>54391</td>\n",
              "      <td>54391</td>\n",
              "      <td>54391</td>\n",
              "      <td>2177</td>\n",
              "      <td>2177</td>\n",
              "      <td>2177</td>\n",
              "      <td>80</td>\n",
              "      <td>80</td>\n",
              "      <td>54391</td>\n",
              "    </tr>\n",
              "    <tr>\n",
              "      <th>2020-02-29</th>\n",
              "      <td>109489</td>\n",
              "      <td>109485</td>\n",
              "      <td>109489</td>\n",
              "      <td>109489</td>\n",
              "      <td>109489</td>\n",
              "      <td>109489</td>\n",
              "      <td>109489</td>\n",
              "      <td>4305</td>\n",
              "      <td>4305</td>\n",
              "      <td>4305</td>\n",
              "      <td>225</td>\n",
              "      <td>225</td>\n",
              "      <td>109489</td>\n",
              "    </tr>\n",
              "    <tr>\n",
              "      <th>2020-03-31</th>\n",
              "      <td>480128</td>\n",
              "      <td>480112</td>\n",
              "      <td>480128</td>\n",
              "      <td>480128</td>\n",
              "      <td>480128</td>\n",
              "      <td>480128</td>\n",
              "      <td>480128</td>\n",
              "      <td>23487</td>\n",
              "      <td>23486</td>\n",
              "      <td>23484</td>\n",
              "      <td>2561</td>\n",
              "      <td>2561</td>\n",
              "      <td>480128</td>\n",
              "    </tr>\n",
              "    <tr>\n",
              "      <th>2020-04-30</th>\n",
              "      <td>469334</td>\n",
              "      <td>469321</td>\n",
              "      <td>469334</td>\n",
              "      <td>469334</td>\n",
              "      <td>469334</td>\n",
              "      <td>469334</td>\n",
              "      <td>469334</td>\n",
              "      <td>21318</td>\n",
              "      <td>21317</td>\n",
              "      <td>21315</td>\n",
              "      <td>2516</td>\n",
              "      <td>2516</td>\n",
              "      <td>469334</td>\n",
              "    </tr>\n",
              "    <tr>\n",
              "      <th>2020-05-31</th>\n",
              "      <td>283229</td>\n",
              "      <td>283219</td>\n",
              "      <td>283229</td>\n",
              "      <td>283229</td>\n",
              "      <td>283229</td>\n",
              "      <td>283229</td>\n",
              "      <td>283229</td>\n",
              "      <td>12780</td>\n",
              "      <td>12777</td>\n",
              "      <td>12777</td>\n",
              "      <td>1993</td>\n",
              "      <td>1993</td>\n",
              "      <td>283229</td>\n",
              "    </tr>\n",
              "    <tr>\n",
              "      <th>2020-06-30</th>\n",
              "      <td>257027</td>\n",
              "      <td>257022</td>\n",
              "      <td>257027</td>\n",
              "      <td>257027</td>\n",
              "      <td>257027</td>\n",
              "      <td>257027</td>\n",
              "      <td>257027</td>\n",
              "      <td>10316</td>\n",
              "      <td>10316</td>\n",
              "      <td>10315</td>\n",
              "      <td>1345</td>\n",
              "      <td>1345</td>\n",
              "      <td>257027</td>\n",
              "    </tr>\n",
              "    <tr>\n",
              "      <th>2020-07-31</th>\n",
              "      <td>1</td>\n",
              "      <td>1</td>\n",
              "      <td>1</td>\n",
              "      <td>1</td>\n",
              "      <td>1</td>\n",
              "      <td>1</td>\n",
              "      <td>1</td>\n",
              "      <td>0</td>\n",
              "      <td>0</td>\n",
              "      <td>0</td>\n",
              "      <td>0</td>\n",
              "      <td>0</td>\n",
              "      <td>1</td>\n",
              "    </tr>\n",
              "  </tbody>\n",
              "</table>\n",
              "</div>"
            ],
            "text/plain": [
              "              data  usuario  apelido  ...  latitude  longitude  hashtags\n",
              "data                                  ...                               \n",
              "2020-01-31   54391    54388    54391  ...        80         80     54391\n",
              "2020-02-29  109489   109485   109489  ...       225        225    109489\n",
              "2020-03-31  480128   480112   480128  ...      2561       2561    480128\n",
              "2020-04-30  469334   469321   469334  ...      2516       2516    469334\n",
              "2020-05-31  283229   283219   283229  ...      1993       1993    283229\n",
              "2020-06-30  257027   257022   257027  ...      1345       1345    257027\n",
              "2020-07-31       1        1        1  ...         0          0         1\n",
              "\n",
              "[7 rows x 13 columns]"
            ]
          },
          "metadata": {
            "tags": []
          },
          "execution_count": 125
        }
      ]
    },
    {
      "cell_type": "markdown",
      "metadata": {
        "id": "HbjSjujdKcbK"
      },
      "source": [
        ""
      ]
    },
    {
      "cell_type": "markdown",
      "metadata": {
        "id": "yEVGnh82KNzT"
      },
      "source": [
        "**Mineração de Perguntas**\n",
        "\n",
        "---\n",
        "\n",
        "\n",
        "\n",
        "\n"
      ]
    },
    {
      "cell_type": "markdown",
      "metadata": {
        "id": "XBjYV2SGHm8M"
      },
      "source": [
        "*Tamanho da coluna que precisa ser minerada*"
      ]
    },
    {
      "cell_type": "code",
      "metadata": {
        "id": "YvWw7SeuG2jK",
        "outputId": "d3fe82c9-9f5d-4110-95fa-accb622bfa15",
        "colab": {
          "base_uri": "https://localhost:8080/",
          "height": 34
        }
      },
      "source": [
        "valor = len(raw_data['texto'])\n",
        "valor"
      ],
      "execution_count": null,
      "outputs": [
        {
          "output_type": "execute_result",
          "data": {
            "text/plain": [
              "1653599"
            ]
          },
          "metadata": {
            "tags": []
          },
          "execution_count": 11
        }
      ]
    },
    {
      "cell_type": "markdown",
      "metadata": {
        "id": "pYNCgr2UHWxi"
      },
      "source": [
        "*Amostra de checagem para suspeita de linhas com erros*"
      ]
    },
    {
      "cell_type": "code",
      "metadata": {
        "id": "hkk4d1yyNRg-",
        "outputId": "278d87c2-efb5-4780-bbc7-586de36ca7bc",
        "colab": {
          "base_uri": "https://localhost:8080/",
          "height": 34
        }
      },
      "source": [
        "sentencas = sent_tokenize(raw_data['texto'][7159]) # this gives us a list of sentences\n",
        "sentencas"
      ],
      "execution_count": null,
      "outputs": [
        {
          "output_type": "execute_result",
          "data": {
            "text/plain": [
              "['@TeichNelson @minsaude @Medicina_CFM @Astro_Pontes Ajudar a enxergar coisas no raio-x, que indicaram algo como o vi… https://t.co/zPbNfdIHll']"
            ]
          },
          "metadata": {
            "tags": []
          },
          "execution_count": 12
        }
      ]
    },
    {
      "cell_type": "markdown",
      "metadata": {
        "id": "kOIEpRn_IcwL"
      },
      "source": [
        "*Mineração para Recuperação de Perguntas na Base*"
      ]
    },
    {
      "cell_type": "code",
      "metadata": {
        "id": "fdbkAh3DQX5D"
      },
      "source": [
        "twitter = []\n",
        "perguntas = []\n",
        "erro = []\n",
        "for i in range(0,valor):\n",
        "  try:\n",
        "    twitter.append(sent_tokenize(raw_data['texto'][i]))   \n",
        "    for sentencas in twitter: \n",
        "      for row in sentencas:\n",
        "        palavras = word_tokenize(row.lower())\n",
        "        for palavra in palavras:\n",
        "          if palavra == '?':\n",
        "            perguntas.append(row) \n",
        "            break\n",
        "    twitter.clear()\n",
        "  except:\n",
        "    erro.append(i)     \n",
        "\n",
        " "
      ],
      "execution_count": null,
      "outputs": []
    },
    {
      "cell_type": "markdown",
      "metadata": {
        "id": "hRZJNThKIlFD"
      },
      "source": [
        "*Resumo após a Mineração*"
      ]
    },
    {
      "cell_type": "code",
      "metadata": {
        "id": "SZEQyq2A9akB",
        "outputId": "3d0db218-c36e-4f55-8c4e-ad957b11eb76",
        "colab": {
          "base_uri": "https://localhost:8080/",
          "height": 34
        }
      },
      "source": [
        "len(erro)\n",
        "#Quantidade de registros que quebrariam a mineração"
      ],
      "execution_count": null,
      "outputs": [
        {
          "output_type": "execute_result",
          "data": {
            "text/plain": [
              "0"
            ]
          },
          "metadata": {
            "tags": []
          },
          "execution_count": 14
        }
      ]
    },
    {
      "cell_type": "code",
      "metadata": {
        "id": "Nv75pvcW8C2K",
        "outputId": "6cedf439-08f9-4fcb-c793-088fc9ec1900",
        "colab": {
          "base_uri": "https://localhost:8080/",
          "height": 34
        }
      },
      "source": [
        "len(perguntas)\n",
        "#Quantidade de perguntas extraidas"
      ],
      "execution_count": null,
      "outputs": [
        {
          "output_type": "execute_result",
          "data": {
            "text/plain": [
              "127"
            ]
          },
          "metadata": {
            "tags": []
          },
          "execution_count": 27
        }
      ]
    },
    {
      "cell_type": "markdown",
      "metadata": {
        "id": "D4ouosG0J9Og"
      },
      "source": [
        "**DataSet gerado para a análise**"
      ]
    },
    {
      "cell_type": "code",
      "metadata": {
        "id": "3nXk4i2zjr0P",
        "outputId": "c9d4960f-c9b6-4e50-d74d-1ae359ac0903",
        "colab": {
          "base_uri": "https://localhost:8080/",
          "height": 34
        }
      },
      "source": [
        "DuvidasDB = perguntas\n",
        "len(DuvidasDB)"
      ],
      "execution_count": null,
      "outputs": [
        {
          "output_type": "execute_result",
          "data": {
            "text/plain": [
              "2"
            ]
          },
          "metadata": {
            "tags": []
          },
          "execution_count": 16
        }
      ]
    },
    {
      "cell_type": "code",
      "metadata": {
        "id": "lv7woFIJhv7E",
        "outputId": "65b5d2c2-031a-4f49-88cb-896b46551dff",
        "colab": {
          "base_uri": "https://localhost:8080/",
          "height": 1000
        }
      },
      "source": [
        "perguntas"
      ],
      "execution_count": null,
      "outputs": [
        {
          "output_type": "execute_result",
          "data": {
            "text/plain": [
              "['@BolsonaroSP Cade o fundão deputado???',\n",
              " 'Fumaça de cigarro pode propagar coronavírus?',\n",
              " '@ipratesMD @dr_pampers Será que corremos o risco de termos piolhos super resistentes?',\n",
              " 'Prioridade ?!',\n",
              " 'Que tal uma notícia boa, indo na contramão do que a mídia corrupta está fazendo (tocando o terror na população)?',\n",
              " '@JoseMedeirosMT Seria isso algum tipo aleatório de demência provocando pelo coronavírus?',\n",
              " '\"Nova York é o novo epicentro da pandemia de corona vírus\"\\n\\nTa agora eu lhe pergunto cadê os vingadores?',\n",
              " '@mitags Será por que o Bolsonaro não fez propaganda?',\n",
              " '@JeanSCorrea7 Mas ele não deu a entender que o Tamiflu era melhor, neh?',\n",
              " '#perguntacorona \\nQuero saber se a covid tem cura?',\n",
              " '@elmundoes eres republicano?',\n",
              " 'E essa chuvinha boa para pegar um resfriado e confundir com Covid-19, hem?',\n",
              " 'Quem é você na Pandemia?',\n",
              " 'Cadê aquela polícia do Dória que prendia velhos, mulheres e trabalhadores na pandemia ???',\n",
              " '@paulomathias Pergunta pra ele pq só a Cracolândia está a pleno vapor????',\n",
              " '@bbcbrasil @cavmota A pergunta que não quer calar: quem faz uso contínuo de hidroxicloroquina está imune ao vírus???',\n",
              " '?',\n",
              " 'Você iria na festa de aniversário de @jairbolsonaro ?',\n",
              " 'É um culto à personalidade né?',\n",
              " 'Qual é a necessidade disso?',\n",
              " 'Até uma pandamia é motivo pra fazerem palanque pra militância?',\n",
              " 'Problemas no paraíso da Cloroquina?',\n",
              " 'E essa treta de dados fraudados no estudo publicado na Lancet?',\n",
              " 'Hotel desaba na China com 70 pessoas em quarentena por coronavírus\\nO que é um peido pra quem está cagado?',\n",
              " '@ttmionzinho Você é infectologista ou \"epidemiologista\"?',\n",
              " 'sério mesmo que vcs acham legal fazer atividade física em ambiente fechado e abafado em plena época de quarentena?… https://t.co/xnQhVk3N7b',\n",
              " 'É muita coisa acontecendo nos últimos dias e pasmem as pessoas que são o foco são negras?',\n",
              " 'Tão passados?',\n",
              " 'Será que vocês ainda não entenderam o plano?',\n",
              " '@beualin véi??',\n",
              " 'No meio da pandemia?',\n",
              " '?',\n",
              " 'Vão buscar 17 portugueses à China e nem sequer vão fazer quarentena?!',\n",
              " 'Está tudo doido?',\n",
              " '@veramagalhaes VERBA 792K,  FALE SOBRE A CLOROQUINA?',\n",
              " 'VOCÊ CONSEGUE?',\n",
              " 'Como vc quer que aconteça um distanciamento social na central do brasil em hora do rush??',\n",
              " '?',\n",
              " 'manoooo eu jurava que tava falando dessa cervejaa, to voando que porra é corona vírus então?????',\n",
              " '@JanainaDoBrasil A sra pode de ir   CATAR COQUINHOS, pf???',\n",
              " 'Rede @redetelecine não está mais aberta?',\n",
              " 'Não ia manter liberada na pandemia?',\n",
              " '@flaviofachel Fachel cadê a previsão do tempo, o trânsito na cidade?',\n",
              " 'Ops.... nossa bandeira mudou de cor????',\n",
              " '@gilmarmendes Ué ?!',\n",
              " 'riot fazendo Clash na data do carnaval...a escolha é simples, qual pode te contaminar com corona virus ?',\n",
              " 'Coronavírus invadiu a vinheta do Jornal da Band?',\n",
              " '@lucasrohan Como assim ?',\n",
              " 'O que mudou na metodologia?',\n",
              " 'Foram já descobertas outras prováveis mortes pelo covid?',\n",
              " 'serio que tem gente furando a quarentena pra ver homi??',\n",
              " '?',\n",
              " 'Será que a Renata vai tomar cloroquina William bonner?',\n",
              " 'Acho que não né?',\n",
              " 'tcc: por que levitating - dua lipa é a melhor arma da humanidade contra o corona virus?',\n",
              " 'como sera q ta o davi da terra 635283942-y ?',\n",
              " 'sera q ele ta feliz seguindo a vida dele?',\n",
              " 'ou sera q ele morreu ppr causa de uma pandemia?',\n",
              " '@amorimvivian_ GIIIIII ???',\n",
              " 'TÁ SE CUIDANDO DIREITNHO PRA NÃO PEGAR COVID-19 ??',\n",
              " 'será que se não tivesse acontecido todo esse bagulho do corona e quarentena, Better nunca teria sido lançada?',\n",
              " '@CNNBrasil Só a Cloroquina já derruba os dois vírus, Ditadória deu dinheiro pra vocês?',\n",
              " 'Governador @jdoriajr é assim que está preocupado com a população?',\n",
              " 'Eu só queria ser uns beijos na @ sabe serase é pedir demais?',\n",
              " 'Coronavírus em países pobres: o que a ciência geográfica tem a nos dizer?',\n",
              " '@jdoriajr O que vc tem contra a cloroquina?',\n",
              " 'LOCKDOWN?',\n",
              " 'Qual é o significado, a tradução e a pronúncia de LOCKDOWN?',\n",
              " 'Passou álcool em gel nas flores?',\n",
              " 'É sério que o presidente mandou os governadores pararem com a quarentena?',\n",
              " '@jose_simao Quantos dias de licença eu ganho para ficar na quarentena do corona?',\n",
              " 'quanto tempo será que vai durar essa pandemia?',\n",
              " '@veramagalhaes Me explique por que a Suécia e Japão não adotaram lockdown?',\n",
              " '@RodrigoMaia E o fundo eleitoral?',\n",
              " 'E o fundo partidário?',\n",
              " '@jairbolsonaro \\nComo vc demite uma pessoa que tá alertando pessoas sobre o perigo da quarentena?',\n",
              " 'benzetacil????',\n",
              " 'Irmão acha mesmo que corona vírus sobrevive aqui ?',\n",
              " 'Covid-19 Consultório: sabe o que deve fazer se estiver grávida?',\n",
              " '@BgwElectric @Leitadas_L0en @TeichNelson Márcio, quando ele falou enfaticamente de cloroquina?',\n",
              " '@heliobeltrao Lobby com a Industria farmacêutica???',\n",
              " 'Qual o custo do Tamiflu?',\n",
              " 'TEMPO?',\n",
              " 'Povo de São Lourenço já leram os comentários no boletim do corona ?',\n",
              " 'Como o Ministério da Saúde administra a pandemia de coronavírus?',\n",
              " '@carlosgpinto E o distanciamento social desta gente... quando é para a foto já não importa?',\n",
              " 'Prevenir contra o coronavírus é necessário, mas e as a fome?',\n",
              " 'O que governo faz para melhorar isso?',\n",
              " 'Como assim detectaram um Corona vírus mais forte ????',\n",
              " 'Isso n para nunca ?',\n",
              " 'tl parada hmmmmm vocês estão violando o distanciamento social????',\n",
              " '?',\n",
              " 'Mas mesmo sendo na calçada não deveria ter o distanciamento social entre as mesas?',\n",
              " 'minha vovis tá com coronavírus e eu tô ??????',\n",
              " '@leticiaarsenio Que lei é essa?',\n",
              " 'Não achei... É uma lei especial por causa da pandemia?',\n",
              " 'PIB?',\n",
              " 'Pandemia?',\n",
              " 'Queda da bolsa?',\n",
              " 'Denver, palermo, rio, Tóquio .. que porra é essa?',\n",
              " 'É pra saber quem vai ter menos casos de covid ?',\n",
              " '@dilmabr É sério mesmo?',\n",
              " 'COVID-19 pode ser doença ocupacional?',\n",
              " '#youtubeApoiaRacista  Q tal tomar providências contra a mil grau?',\n",
              " '@edgarvnovo Estás em isolamento social?',\n",
              " 'Teria como sumir do planeta por favor?',\n",
              " '@ArthurWeint QUER SABER O QUE É UM GAME CHANGER?',\n",
              " 'acabei de ler o seguinte comentário sobre o lockdown\\n\\n“quem fez o critério pra definir o que é essencial ou não???',\n",
              " '?… https://t.co/Kl27PQXpi8',\n",
              " '[ A ÁGUA SALGADA MATA O COVID19? ]',\n",
              " '@rogeriocaticci @seu_romao @leandroruschel Tá putinha por que?',\n",
              " 'Ai a ordem dos médicos pediu aos médicos reformados para virem ajudar o SNS com o Covid-19?',\n",
              " 'seria essa pandemia o episódio final de black mirror?',\n",
              " 'Há uma TRIAGEM destas pessoas para ver se apresentam sinais de COVID19??????',\n",
              " '?',\n",
              " 'Sou só eu que, inconscientemente, evito o Instagram, porque não parece estar assegurado o devido distanciamento social?',\n",
              " 'A quarentena levou toda minha saúde mental, eu fiz coisas tipo (?????)',\n",
              " '@loud_voltan Como está sua quarentena ?',\n",
              " 'Pior dia da face de terra e eu não tenho o Felipe pra me distrair no ppv O que mais, Deus?',\n",
              " 'As máscaras do instagram protegem contra o covid-19?',\n",
              " 'Porque ainda não fomos pra janela cantar ‘Evidências’ nessa quarentena?',\n",
              " 'MATA AS MINHAS CURIOSIDADES \\n(correntes de isolamento social) \\n\\n1-  ?',\n",
              " 'Alguém aí tem visto algum hospital de campanha cheio de pessoas contaminadas por COVID-19?',\n",
              " 'por que tão falando que só com as lives da quarentena o popline começou a cobrir sertanejo?',\n",
              " 'Como tem gente que ainda não caiu a ficha?',\n",
              " 'a pandemia só vai deixar eu segurar esse nenê de novo quando ele estiver fazendo tiktok é isso mesmo????????',\n",
              " '@madalena_anjos_ Então mãe está doente?']"
            ]
          },
          "metadata": {
            "tags": []
          },
          "execution_count": 28
        }
      ]
    },
    {
      "cell_type": "markdown",
      "metadata": {
        "id": "0tthsrR1I9eJ"
      },
      "source": [
        "*Rascunho geral*"
      ]
    },
    {
      "cell_type": "code",
      "metadata": {
        "id": "r7Ls1vHDjqZW"
      },
      "source": [
        "from nltk.corpus import stopwords\n",
        "from string import punctuation\n",
        "stopwords = set(stopwords.words('portuguese') + list(punctuation))\n",
        "stopwords\n",
        "#list(punctuation)\n",
        "\n",
        "palavras_sem_stopwords = [palavra for palavra in sentencas if palavra not in stopwords]\n",
        "palavras_sem_stopwords"
      ],
      "execution_count": null,
      "outputs": []
    }
  ]
}